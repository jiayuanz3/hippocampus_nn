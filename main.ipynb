{
 "cells": [
  {
   "cell_type": "code",
   "execution_count": 8,
   "id": "b1e65929",
   "metadata": {},
   "outputs": [
    {
     "name": "stdout",
     "output_type": "stream",
     "text": [
      "Torch Version:  1.13.1+cpu\n"
     ]
    }
   ],
   "source": [
    "import torch\n",
    "import numpy as np\n",
    "print('Torch Version: ',torch.__version__)\n",
    "\n",
    "from src.dataloader import generate_data\n",
    "from src.train import train"
   ]
  },
  {
   "cell_type": "code",
   "execution_count": 9,
   "id": "1cd3cd69",
   "metadata": {},
   "outputs": [
    {
     "ename": "NameError",
     "evalue": "name 'np' is not defined",
     "output_type": "error",
     "traceback": [
      "\u001B[1;31m---------------------------------------------------------------------------\u001B[0m",
      "\u001B[1;31mNameError\u001B[0m                                 Traceback (most recent call last)",
      "Cell \u001B[1;32mIn[9], line 2\u001B[0m\n\u001B[0;32m      1\u001B[0m file_path \u001B[38;5;241m=\u001B[39m \u001B[38;5;124m'\u001B[39m\u001B[38;5;124mTask04_Hippocampus/\u001B[39m\u001B[38;5;124m'\u001B[39m\n\u001B[1;32m----> 2\u001B[0m traindataloader,testdataloader \u001B[38;5;241m=\u001B[39m \u001B[43mgenerate_data\u001B[49m\u001B[43m(\u001B[49m\u001B[43mfile_path\u001B[49m\u001B[43m)\u001B[49m\n\u001B[0;32m      3\u001B[0m train(traindataloader,testdataloader)\n",
      "File \u001B[1;32mD:\\2022_23\\Medical_Imaging\\hippocampus_nn\\src\\dataloader.py:47\u001B[0m, in \u001B[0;36mgenerate_data\u001B[1;34m(file_path, resize_shape)\u001B[0m\n\u001B[0;32m     45\u001B[0m dataset \u001B[38;5;241m=\u001B[39m mySegmentationData(file_path, resize_shape)\n\u001B[0;32m     46\u001B[0m num_sample \u001B[38;5;241m=\u001B[39m \u001B[38;5;28mlen\u001B[39m(dataset)\n\u001B[1;32m---> 47\u001B[0m index \u001B[38;5;241m=\u001B[39m \u001B[43mnp\u001B[49m\u001B[38;5;241m.\u001B[39marange(\u001B[38;5;241m0\u001B[39m, num_sample)\n\u001B[0;32m     49\u001B[0m num_valid \u001B[38;5;241m=\u001B[39m \u001B[38;5;28mint\u001B[39m(np\u001B[38;5;241m.\u001B[39mfloor(\u001B[38;5;241m0.1\u001B[39m \u001B[38;5;241m*\u001B[39m num_train))\n\u001B[0;32m     50\u001B[0m num_test \u001B[38;5;241m=\u001B[39m \u001B[38;5;28mint\u001B[39m(np\u001B[38;5;241m.\u001B[39mfloor(\u001B[38;5;241m0.1\u001B[39m \u001B[38;5;241m*\u001B[39m num_train))\n",
      "\u001B[1;31mNameError\u001B[0m: name 'np' is not defined"
     ]
    }
   ],
   "source": [
    "file_path = 'Task04_Hippocampus/'\n",
    "traindataloader,testdataloader = generate_data(file_path)\n",
    "train(traindataloader,testdataloader)"
   ]
  },
  {
   "cell_type": "code",
   "execution_count": null,
   "id": "d42e6237",
   "metadata": {},
   "outputs": [],
   "source": []
  }
 ],
 "metadata": {
  "kernelspec": {
   "display_name": "Python 3 (ipykernel)",
   "language": "python",
   "name": "python3"
  },
  "language_info": {
   "codemirror_mode": {
    "name": "ipython",
    "version": 3
   },
   "file_extension": ".py",
   "mimetype": "text/x-python",
   "name": "python",
   "nbconvert_exporter": "python",
   "pygments_lexer": "ipython3",
   "version": "3.9.16"
  }
 },
 "nbformat": 4,
 "nbformat_minor": 5
}
