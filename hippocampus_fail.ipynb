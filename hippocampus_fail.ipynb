{
 "cells": [
  {
   "cell_type": "code",
   "execution_count": 1,
   "id": "b08d7847",
   "metadata": {},
   "outputs": [],
   "source": [
    "import numpy as np\n",
    "import nibabel as nib\n",
    "import itk\n",
    "import itkwidgets\n",
    "from ipywidgets import interact, interactive, IntSlider, ToggleButtons\n",
    "import matplotlib.pyplot as plt\n",
    "%matplotlib inline\n",
    "\n",
    "import seaborn as sns\n",
    "sns.set_style('darkgrid')"
   ]
  },
  {
   "cell_type": "code",
   "execution_count": 2,
   "id": "08938c00",
   "metadata": {},
   "outputs": [
    {
     "name": "stdout",
     "output_type": "stream",
     "text": [
      "Type of the image <class 'nibabel.nifti1.Nifti1Image'>.\n"
     ]
    }
   ],
   "source": [
    "image_path = '/Users/zhujiayuan/Downloads/Task04_Hippocampus/imagesTr/hippocampus_001.nii.gz'\n",
    "image_obj = nib.load(image_path)\n",
    "print(f'Type of the image {type(image_obj)}.')"
   ]
  },
  {
   "cell_type": "code",
   "execution_count": 3,
   "id": "992922a2",
   "metadata": {},
   "outputs": [
    {
     "data": {
      "text/plain": [
       "numpy.ndarray"
      ]
     },
     "execution_count": 3,
     "metadata": {},
     "output_type": "execute_result"
    }
   ],
   "source": [
    "# Turn into numpy array\n",
    "#array = np.array(image.dataobj)\n",
    "image_data = image_obj.get_fdata()\n",
    "type(image_data)"
   ]
  },
  {
   "cell_type": "code",
   "execution_count": 6,
   "id": "aa3914f9",
   "metadata": {},
   "outputs": [
    {
     "data": {
      "text/plain": [
       "(35, 51, 35)"
      ]
     },
     "execution_count": 6,
     "metadata": {},
     "output_type": "execute_result"
    }
   ],
   "source": [
    "image_data.shape"
   ]
  },
  {
   "cell_type": "code",
   "execution_count": 7,
   "id": "e184dad5",
   "metadata": {},
   "outputs": [
    {
     "name": "stdout",
     "output_type": "stream",
     "text": [
      "The image object has the following dimensions:\n",
      "height=35\n",
      "width=51\n",
      "depth=35\n"
     ]
    }
   ],
   "source": [
    "# Get the image shape and print it out\n",
    "height, width, depth= image_data.shape\n",
    "print(f'The image object has the following dimensions:\\nheight={height}\\nwidth={width}\\ndepth={depth}')"
   ]
  },
  {
   "cell_type": "markdown",
   "id": "4ec6299b",
   "metadata": {},
   "source": [
    "### Visualize"
   ]
  },
  {
   "cell_type": "code",
   "execution_count": 13,
   "id": "502a7535",
   "metadata": {},
   "outputs": [
    {
     "name": "stdout",
     "output_type": "stream",
     "text": [
      "Plotting layer Layer 17 of image\n"
     ]
    },
    {
     "data": {
      "text/plain": [
       "<function matplotlib.pyplot.show(close=None, block=None)>"
      ]
     },
     "execution_count": 13,
     "metadata": {},
     "output_type": "execute_result"
    },
    {
     "data": {
      "image/png": "[encoded data removed]",
      "text/plain": [
       "<Figure size 432x288 with 1 Axes>"
      ]
     },
     "metadata": {},
     "output_type": "display_data"
    }
   ],
   "source": [
    "# Select random layer number\n",
    "maxval = 35\n",
    "i = np.random.randint(0, maxval)\n",
    "\n",
    "print(f'Plotting layer Layer {i} of image')\n",
    "plt.imshow(image_data[:, :, i], cmap = 'gray')\n",
    "plt.axis('off')\n",
    "plt.show"
   ]
  },
  {
   "cell_type": "code",
   "execution_count": 14,
   "id": "030b96e9",
   "metadata": {},
   "outputs": [
    {
     "data": {
      "application/vnd.jupyter.widget-view+json": {
       "model_id": "c8567ad6e8d145549fcfef01f1c6d88b",
       "version_major": 2,
       "version_minor": 0
      },
      "text/plain": [
       "interactive(children=(IntSlider(value=17, description='layer', max=34), Output()), _dom_classes=('widget-inter…"
      ]
     },
     "metadata": {},
     "output_type": "display_data"
    },
    {
     "data": {
      "text/plain": [
       "<function __main__.explore_3d_image(layer)>"
      ]
     },
     "execution_count": 14,
     "metadata": {},
     "output_type": "execute_result"
    }
   ],
   "source": [
    "# define a function to visualize the data\n",
    "def explore_3d_image(layer):\n",
    "    plt.figure(figsize=(10,15))\n",
    "    plt.imshow(image_data[:, :, layer], cmap = 'gray')\n",
    "    plt.title('Explore Layers of Brain MRI', family = 'Arial', fontsize=20)\n",
    "    plt.axis('off')\n",
    "    return layer\n",
    "\n",
    "# run the ipywidgets interact() function to explore data\n",
    "interact(explore_3d_image, layer=(0,image_data.shape[2]-1))"
   ]
  },
  {
   "cell_type": "code",
   "execution_count": null,
   "id": "f00ec187",
   "metadata": {},
   "outputs": [],
   "source": []
  },
  {
   "cell_type": "code",
   "execution_count": 18,
   "id": "9d93ba5a",
   "metadata": {},
   "outputs": [
    {
     "data": {
      "text/plain": [
       "nibabel.nifti1.Nifti1Image"
      ]
     },
     "execution_count": 18,
     "metadata": {},
     "output_type": "execute_result"
    }
   ],
   "source": [
    "label_path = '/Users/zhujiayuan/Downloads/Task04_Hippocampus/labelsTr/hippocampus_001.nii.gz'\n",
    "label_obj = nib.load(label_path)\n",
    "type(label_obj)"
   ]
  },
  {
   "cell_type": "code",
   "execution_count": 19,
   "id": "9ba98890",
   "metadata": {},
   "outputs": [
    {
     "data": {
      "text/plain": [
       "numpy.ndarray"
      ]
     },
     "execution_count": 19,
     "metadata": {},
     "output_type": "execute_result"
    }
   ],
   "source": [
    "label_array = label_obj.get_fdata()\n",
    "type(label_array)"
   ]
  },
  {
   "cell_type": "code",
   "execution_count": 20,
   "id": "7af4baa5",
   "metadata": {},
   "outputs": [
    {
     "name": "stdout",
     "output_type": "stream",
     "text": [
      "The label object has the following dimensions:\n",
      "height=35\n",
      "width=51\n",
      "depth=35\n"
     ]
    }
   ],
   "source": [
    "height,width,depth=label_array.shape\n",
    "print(f'The label object has the following dimensions:\\nheight={height}\\nwidth={width}\\ndepth={depth}')"
   ]
  },
  {
   "cell_type": "code",
   "execution_count": 26,
   "id": "b3070ab4",
   "metadata": {},
   "outputs": [
    {
     "name": "stdout",
     "output_type": "stream",
     "text": [
      "With the unique values: [0. 1. 2.]\n",
      "\n",
      "Corresponding to the following label categories\n",
      "0: background,\n",
      "1: Anterior,\n",
      "2: Posterior\n",
      "\n"
     ]
    }
   ],
   "source": [
    "print(f'With the unique values: {np.unique(label_array)}')\n",
    "\n",
    "print('''\\nCorresponding to the following label categories\n",
    "0: background,\n",
    "1: Anterior,\n",
    "2: Posterior\n",
    "''')"
   ]
  },
  {
   "cell_type": "markdown",
   "id": "4e443c34",
   "metadata": {},
   "source": [
    "### visualize the data for specific labels"
   ]
  },
  {
   "cell_type": "code",
   "execution_count": 73,
   "id": "092ce592",
   "metadata": {},
   "outputs": [
    {
     "data": {
      "image/png": "[encoded data removed]",
      "text/plain": [
       "<Figure size 2880x1800 with 3 Axes>"
      ]
     },
     "metadata": {},
     "output_type": "display_data"
    }
   ],
   "source": [
    "# define a single layer for plotting\n",
    "layer = 10\n",
    "\n",
    "# define a dictionary of class labels\n",
    "classes_dict = {\n",
    "    'background': 0,\n",
    "    'Anterior':1,\n",
    "    'Posterior': 2\n",
    "}\n",
    "\n",
    "# set up for plotting\n",
    "fig, ax = plt.subplots(nrows=1, ncols=3, figsize=(40,25))\n",
    "for i in range(3):\n",
    "    img_label_str = list(classes_dict.keys())[i]\n",
    "    img = label_array[:, :, layer]\n",
    "    mask = np.where(img==classes_dict[img_label_str], 255, 0)\n",
    "    ax[i].imshow(mask)\n",
    "    ax[i].set_title(f'Layer {layer} for {img_label_str}', fontsize=45, family = 'Arial')\n",
    "    ax[i].axis('off')\n",
    "plt.tight_layout()"
   ]
  },
  {
   "cell_type": "markdown",
   "id": "4a2fad0f",
   "metadata": {},
   "source": [
    "### interactive visualization across layers"
   ]
  },
  {
   "cell_type": "code",
   "execution_count": 78,
   "id": "45bc0645",
   "metadata": {},
   "outputs": [
    {
     "data": {
      "application/vnd.jupyter.widget-view+json": {
       "model_id": "990e0cf4999c4df18512ef87662f2a3d",
       "version_major": 2,
       "version_minor": 0
      },
      "text/plain": [
       "interactive(children=(ToggleButtons(button_style='info', description='Select class', options=('background', 'A…"
      ]
     },
     "metadata": {},
     "output_type": "display_data"
    }
   ],
   "source": [
    "# create button values\n",
    "select_class = ToggleButtons(\n",
    "    options = ['background', 'Anterior', 'Posterior'],\n",
    "    description = 'Select class',\n",
    "    disabled = False,\n",
    "    button_style = 'info'\n",
    ")\n",
    "\n",
    "# create layer slider\n",
    "select_layer = IntSlider(min=0, max = 34, description = 'Select layer', continuous_update = False)\n",
    "\n",
    "# define a function for plotting images\n",
    "def plot_image(seg_class, layer):\n",
    "    print(f'Plotting {layer} Layer, Label: {seg_class}')\n",
    "    img_label = classes_dict[seg_class]\n",
    "    mask = np.where(label_array[:, :, layer]==img_label, 255, 0)\n",
    "    plt.figure(figsize=(6,9))\n",
    "    plt.imshow(mask, cmap='gray')\n",
    "    plt.axis('off')\n",
    "    \n",
    "# use the interactive() tool to create a visualization\n",
    "interactive(plot_image, seg_class = select_class, layer = select_layer)\n"
   ]
  },
  {
   "cell_type": "code",
   "execution_count": null,
   "id": "72512409",
   "metadata": {},
   "outputs": [],
   "source": []
  },
  {
   "cell_type": "markdown",
   "id": "eb1840c9",
   "metadata": {},
   "source": [
    "## import data"
   ]
  },
  {
   "cell_type": "code",
   "execution_count": 257,
   "id": "bc58f803",
   "metadata": {},
   "outputs": [],
   "source": [
    "import glob\n",
    "import torchio as tio\n",
    "from torchvision import transforms \n",
    "from torch.utils.data import DataLoader"
   ]
  },
  {
   "cell_type": "code",
   "execution_count": 258,
   "id": "74d1304e",
   "metadata": {},
   "outputs": [],
   "source": [
    "images = glob.glob('/Users/zhujiayuan/Downloads/Task04_Hippocampus/imagesTr' + \"/*.nii.gz\")\n",
    "labels = glob.glob('/Users/zhujiayuan/Downloads/Task04_Hippocampus/labelsTr' + \"/*.nii.gz\")"
   ]
  },
  {
   "cell_type": "code",
   "execution_count": 275,
   "id": "0076da9f",
   "metadata": {},
   "outputs": [
    {
     "data": {
      "text/plain": [
       "(36, 57, 37)"
      ]
     },
     "execution_count": 275,
     "metadata": {},
     "output_type": "execute_result"
    }
   ],
   "source": [
    "nib.load(images[0]).get_fdata().shape"
   ]
  },
  {
   "cell_type": "code",
   "execution_count": null,
   "id": "fccbca62",
   "metadata": {},
   "outputs": [],
   "source": []
  },
  {
   "cell_type": "markdown",
   "id": "f239936d",
   "metadata": {},
   "source": [
    "### find size distribution"
   ]
  },
  {
   "cell_type": "code",
   "execution_count": 291,
   "id": "85a843b9",
   "metadata": {},
   "outputs": [],
   "source": [
    "width_list_images = []\n",
    "height_list_images = []\n",
    "depth_list_images = []\n",
    "width_list_labels = []\n",
    "height_list_labels = []\n",
    "depth_list_labels = []\n",
    "\n",
    "flattern_data = np.array([])\n",
    "\n",
    "for i in range(len(images)):\n",
    "    image = nib.load(images[i]).get_fdata().shape\n",
    "    label = nib.load(labels[i]).get_fdata().shape\n",
    "    \n",
    "    width_list_images.append(image[0])\n",
    "    height_list_images.append(image[1])\n",
    "    depth_list_images.append(image[2])\n",
    "    \n",
    "    width_list_labels.append(label[0])\n",
    "    height_list_labels.append(label[1])\n",
    "    depth_list_labels.append(label[2])\n",
    "    \n",
    "    flattern_data = np.append(flattern_data, nib.load(images[i]).get_fdata().flatten())"
   ]
  },
  {
   "cell_type": "code",
   "execution_count": 292,
   "id": "60b4caa9",
   "metadata": {},
   "outputs": [
    {
     "data": {
      "text/plain": [
       "(43, 59, 47)"
      ]
     },
     "execution_count": 292,
     "metadata": {},
     "output_type": "execute_result"
    }
   ],
   "source": [
    "resize_shape = (max(width_list_images), max(height_list_images), max(depth_list_images))\n",
    "resize_shape"
   ]
  },
  {
   "cell_type": "code",
   "execution_count": 293,
   "id": "802dc545",
   "metadata": {},
   "outputs": [
    {
     "data": {
      "text/plain": [
       "(array([ 0.,  5., 10., 15., 20., 25., 30., 35.]),\n",
       " [Text(0, 0.0, '0'),\n",
       "  Text(0, 5.0, '5'),\n",
       "  Text(0, 10.0, '10'),\n",
       "  Text(0, 15.0, '15'),\n",
       "  Text(0, 20.0, '20'),\n",
       "  Text(0, 25.0, '25'),\n",
       "  Text(0, 30.0, '30'),\n",
       "  Text(0, 35.0, '35')])"
      ]
     },
     "execution_count": 293,
     "metadata": {},
     "output_type": "execute_result"
    },
    {
     "data": {
      "image/png": "[encoded data removed]",
      "text/plain": [
       "<Figure size 1296x432 with 3 Axes>"
      ]
     },
     "metadata": {},
     "output_type": "display_data"
    }
   ],
   "source": [
    "fig, (ax1, ax2, ax3) = plt.subplots(1,3,figsize=(18,6))\n",
    "\n",
    "plt.subplot(1,3,1)\n",
    "# training set\n",
    "fig = sns.histplot(width_list_images, color = 'b', kde = True, bins = 20) \n",
    "\n",
    "plt.title('width distribution', fontsize = 13)\n",
    "plt.xlabel('width', fontsize = 12)\n",
    "plt.ylabel('count', fontsize = 12)\n",
    "plt.xticks(fontsize = 10)\n",
    "plt.yticks(fontsize = 10)\n",
    "\n",
    "plt.subplot(1,3,2)\n",
    "fig = sns.histplot(height_list_images, color = 'r', kde = True, bins = 20) \n",
    "\n",
    "plt.title('height distribution', fontsize = 13)\n",
    "plt.xlabel('height', fontsize = 12)\n",
    "plt.ylabel('count', fontsize = 12)\n",
    "plt.xticks(fontsize = 10)\n",
    "plt.yticks(fontsize = 10)\n",
    "\n",
    "plt.subplot(1,3,3)\n",
    "fig = sns.histplot(depth_list_images, color = 'g', kde = True, bins = 20) \n",
    "\n",
    "plt.title('depth distribution', fontsize = 13)\n",
    "plt.xlabel('depth', fontsize = 12)\n",
    "plt.ylabel('count', fontsize = 12)\n",
    "plt.xticks(fontsize = 10)\n",
    "plt.yticks(fontsize = 10)\n",
    "\n",
    "plt.savefig('shape distribution', dpi = 300, bbox_inches='tight', facecolor='w')"
   ]
  },
  {
   "cell_type": "code",
   "execution_count": null,
   "id": "9d132183",
   "metadata": {},
   "outputs": [],
   "source": []
  },
  {
   "cell_type": "code",
   "execution_count": null,
   "id": "23b7407e",
   "metadata": {},
   "outputs": [],
   "source": []
  },
  {
   "cell_type": "markdown",
   "id": "ddbd1024",
   "metadata": {},
   "source": [
    "### find data distribution"
   ]
  },
  {
   "cell_type": "code",
   "execution_count": 770,
   "id": "d17b68d2",
   "metadata": {},
   "outputs": [
    {
     "data": {
      "text/plain": [
       "(array([0.0e+00, 2.0e+07, 4.0e+07, 6.0e+07, 8.0e+07, 1.0e+08, 1.2e+08,\n",
       "        1.4e+08, 1.6e+08, 1.8e+08]),\n",
       " [Text(0, 0.0, '0.0'),\n",
       "  Text(0, 20000000.0, '0.2'),\n",
       "  Text(0, 40000000.0, '0.4'),\n",
       "  Text(0, 60000000.0, '0.6'),\n",
       "  Text(0, 80000000.0, '0.8'),\n",
       "  Text(0, 100000000.0, '1.0'),\n",
       "  Text(0, 120000000.0, '1.2'),\n",
       "  Text(0, 140000000.0, '1.4'),\n",
       "  Text(0, 160000000.0, '1.6'),\n",
       "  Text(0, 180000000.0, '1.8')])"
      ]
     },
     "execution_count": 770,
     "metadata": {},
     "output_type": "execute_result"
    },
    {
     "data": {
      "image/png": "[encoded data removed]",
      "text/plain": [
       "<Figure size 1296x432 with 1 Axes>"
      ]
     },
     "metadata": {},
     "output_type": "display_data"
    }
   ],
   "source": [
    "plt.figure(figsize=(18,6))\n",
    "\n",
    "fig = sns.histplot(flattern_data, color = 'b', kde = True, bins = 20) \n",
    "\n",
    "plt.title('T1w distribution', fontsize = 13)\n",
    "plt.xlabel('T1w', fontsize = 12)\n",
    "plt.ylabel('Count', fontsize = 12)\n",
    "plt.xticks(fontsize = 10)\n",
    "plt.yticks(fontsize = 10)"
   ]
  },
  {
   "cell_type": "code",
   "execution_count": 296,
   "id": "baabcee8",
   "metadata": {},
   "outputs": [
    {
     "data": {
      "text/plain": [
       "0.0"
      ]
     },
     "execution_count": 296,
     "metadata": {},
     "output_type": "execute_result"
    }
   ],
   "source": [
    "min(flattern_data)"
   ]
  },
  {
   "cell_type": "code",
   "execution_count": 297,
   "id": "cc15270a",
   "metadata": {},
   "outputs": [
    {
     "data": {
      "text/plain": [
       "1704295.25"
      ]
     },
     "execution_count": 297,
     "metadata": {},
     "output_type": "execute_result"
    }
   ],
   "source": [
    "max(flattern_data)"
   ]
  },
  {
   "cell_type": "code",
   "execution_count": 303,
   "id": "c6ffa38a",
   "metadata": {},
   "outputs": [
    {
     "data": {
      "text/plain": [
       "(array([   0., 1000., 2000., 3000., 4000., 5000., 6000., 7000.]),\n",
       " [Text(0, 0.0, '0'),\n",
       "  Text(0, 1000.0, '1000'),\n",
       "  Text(0, 2000.0, '2000'),\n",
       "  Text(0, 3000.0, '3000'),\n",
       "  Text(0, 4000.0, '4000'),\n",
       "  Text(0, 5000.0, '5000'),\n",
       "  Text(0, 6000.0, '6000'),\n",
       "  Text(0, 7000.0, '7000')])"
      ]
     },
     "execution_count": 303,
     "metadata": {},
     "output_type": "execute_result"
    },
    {
     "data": {
      "image/png": "[encoded data removed]",
      "text/plain": [
       "<Figure size 1296x432 with 1 Axes>"
      ]
     },
     "metadata": {},
     "output_type": "display_data"
    }
   ],
   "source": [
    "a = nib.load(images[2]).get_fdata().flatten()\n",
    "\n",
    "plt.figure(figsize=(18,6))\n",
    "\n",
    "fig = sns.histplot(a, color = 'b', kde = True, bins = 20) \n",
    "\n",
    "plt.title('', fontsize = 13)\n",
    "plt.xlabel('', fontsize = 12)\n",
    "plt.ylabel('Count', fontsize = 12)\n",
    "plt.xticks(fontsize = 10)\n",
    "plt.yticks(fontsize = 10)"
   ]
  },
  {
   "cell_type": "code",
   "execution_count": null,
   "id": "0a62ed28",
   "metadata": {},
   "outputs": [],
   "source": []
  },
  {
   "cell_type": "markdown",
   "id": "9c3b4f5c",
   "metadata": {},
   "source": [
    "## train lable counts"
   ]
  },
  {
   "cell_type": "code",
   "execution_count": 621,
   "id": "e0e3f9da",
   "metadata": {},
   "outputs": [
    {
     "data": {
      "text/plain": [
       "array([0., 0., 0., ..., 0., 0., 0.])"
      ]
     },
     "execution_count": 621,
     "metadata": {},
     "output_type": "execute_result"
    }
   ],
   "source": [
    "labels = glob.glob('/Users/zhujiayuan/Downloads/Task04_Hippocampus/train/labels' + \"/*.nii.gz\")\n",
    "a = nib.load(labels[0]).get_fdata().flatten()\n",
    "a"
   ]
  },
  {
   "cell_type": "code",
   "execution_count": 622,
   "id": "2115d8ce",
   "metadata": {},
   "outputs": [],
   "source": [
    "count_dict = {0: 0, 1: 0, 2:0}\n",
    "for i in range(len(labels)):\n",
    "    label = nib.load(labels[i]).get_fdata().flatten()\n",
    "    count_dict[0] += np.count_nonzero(label == 0)\n",
    "    count_dict[1] += np.count_nonzero(label == 1)\n",
    "    count_dict[2] += np.count_nonzero(label == 2)"
   ]
  },
  {
   "cell_type": "code",
   "execution_count": 623,
   "id": "31891212",
   "metadata": {},
   "outputs": [
    {
     "data": {
      "text/plain": [
       "{0: 24348059, 1: 359957, 2: 332174}"
      ]
     },
     "execution_count": 623,
     "metadata": {},
     "output_type": "execute_result"
    }
   ],
   "source": [
    "count_dict"
   ]
  },
  {
   "cell_type": "code",
   "execution_count": 625,
   "id": "abb64b90",
   "metadata": {},
   "outputs": [
    {
     "data": {
      "text/plain": [
       "1.0836398995707068"
      ]
     },
     "execution_count": 625,
     "metadata": {},
     "output_type": "execute_result"
    }
   ],
   "source": [
    "359957/332174"
   ]
  },
  {
   "cell_type": "code",
   "execution_count": null,
   "id": "fca4c1b6",
   "metadata": {},
   "outputs": [],
   "source": [
    "67:1.08:1"
   ]
  },
  {
   "cell_type": "code",
   "execution_count": null,
   "id": "79bbab0d",
   "metadata": {},
   "outputs": [],
   "source": [
    "1:5:10"
   ]
  },
  {
   "cell_type": "code",
   "execution_count": null,
   "id": "e2a85f4e",
   "metadata": {},
   "outputs": [],
   "source": [
    "1:100:100"
   ]
  },
  {
   "cell_type": "markdown",
   "id": "6e020a9f",
   "metadata": {},
   "source": [
    "### resize image with tio.CropOrPad"
   ]
  },
  {
   "cell_type": "code",
   "execution_count": 553,
   "id": "ebf74a87",
   "metadata": {},
   "outputs": [],
   "source": [
    "import torch\n",
    "import os"
   ]
  },
  {
   "cell_type": "code",
   "execution_count": 485,
   "id": "ed79eaf1",
   "metadata": {},
   "outputs": [],
   "source": [
    "def preprocessing(root, resize_shape = (43, 59, 47)):\n",
    "    # image and label path\n",
    "    image_path = os.path.join(root, 'imagesTr')\n",
    "    label_path = os.path.join(root, 'labelsTr')\n",
    "    images = sorted(glob.glob(image_path + '/*.nii.gz'))\n",
    "    labels = sorted(glob.glob(label_path + '/*.nii.gz'))\n",
    "    \n",
    "    # seperate into training, validation and testing\n",
    "    num_sample = len(images)\n",
    "    index = np.arange(0, num_sample)\n",
    "\n",
    "    num_valid = int(np.floor(0.1 * num_sample))\n",
    "    num_test = int(np.floor(0.1 * num_sample))\n",
    "\n",
    "    r = np.random.RandomState(42)\n",
    "    valid_idx = r.choice(index, num_valid)\n",
    "    index = index[~np.isin(index, valid_idx)]\n",
    "    test_idx = r.choice(index, num_test)\n",
    "    index = index[~np.isin(index, test_idx)]\n",
    "    \n",
    "    for i in range(num_sample):\n",
    "        image = tio.ScalarImage(images[i])\n",
    "        label = tio.ScalarImage(labels[i])\n",
    "        \n",
    "        # normalization\n",
    "        transform = tio.transforms.ZNormalization()\n",
    "        image = transform(image)\n",
    "        \n",
    "        # resize\n",
    "        transform = tio.CropOrPad(resize_shape)\n",
    "        image = transform(image)\n",
    "        label = transform(label)\n",
    "        \n",
    "        if i in valid_idx:\n",
    "            image.save(os.path.join(root, 'val/images/', (str(i)+'.nii.gz')))\n",
    "            label.save(os.path.join(root, 'val/labels/', (str(i)+'.nii.gz')))\n",
    "        elif i in test_idx:\n",
    "            image.save(os.path.join(root, 'test/images/', (str(i)+'.nii.gz')))\n",
    "            label.save(os.path.join(root, 'test/labels/', (str(i)+'.nii.gz')))\n",
    "        elif i in index:\n",
    "            image.save(os.path.join(root, 'train/images/', (str(i)+'.nii.gz')))\n",
    "            label.save(os.path.join(root, 'train/labels/', (str(i)+'.nii.gz')))\n",
    "        \n",
    "    "
   ]
  },
  {
   "cell_type": "code",
   "execution_count": 483,
   "id": "5ffde922",
   "metadata": {},
   "outputs": [],
   "source": [
    "preprocessing('/Users/zhujiayuan/Downloads/Task04_Hippocampus/')"
   ]
  },
  {
   "cell_type": "code",
   "execution_count": null,
   "id": "d718b481",
   "metadata": {},
   "outputs": [],
   "source": []
  },
  {
   "cell_type": "code",
   "execution_count": null,
   "id": "164e9457",
   "metadata": {},
   "outputs": [],
   "source": []
  },
  {
   "cell_type": "code",
   "execution_count": 554,
   "id": "5c28492e",
   "metadata": {},
   "outputs": [],
   "source": [
    "# Load data and include prepared transform (Remember to apply same transform to both image and label) \n",
    "class mySegmentationData(object):\n",
    "    def __init__(self, root):\n",
    "        self.root = root\n",
    "        self._eval = eval\n",
    "        self.build_dataset()\n",
    "                      \n",
    "    def build_dataset(self):\n",
    "        image_path = os.path.join(self.root, 'images')\n",
    "        label_path = os.path.join(self.root, 'labels')\n",
    "        self._images = sorted(glob.glob(image_path + '/*.nii.gz'))\n",
    "        self._labels = sorted(glob.glob(label_path + '/*.nii.gz'))\n",
    "    \n",
    "    def __getitem__(self, idx):\n",
    "        image = tio.ScalarImage(self._images[idx])\n",
    "        label = tio.ScalarImage(self._labels[idx])\n",
    "   \n",
    "        return image.data, label.data\n",
    "    \n",
    "    def __len__(self):\n",
    "        return len(self._images)"
   ]
  },
  {
   "cell_type": "code",
   "execution_count": 608,
   "id": "1e7689fb",
   "metadata": {},
   "outputs": [],
   "source": [
    "train = mySegmentationData('/Users/zhujiayuan/Downloads/Task04_Hippocampus/train')\n",
    "val = mySegmentationData('/Users/zhujiayuan/Downloads/Task04_Hippocampus/val')\n",
    "test = mySegmentationData('/Users/zhujiayuan/Downloads/Task04_Hippocampus/test')"
   ]
  },
  {
   "cell_type": "code",
   "execution_count": 556,
   "id": "9b726d22",
   "metadata": {},
   "outputs": [
    {
     "data": {
      "text/plain": [
       "torch.Size([1, 43, 59, 47])"
      ]
     },
     "execution_count": 556,
     "metadata": {},
     "output_type": "execute_result"
    }
   ],
   "source": [
    "# always check the shape of your training data\n",
    "dataiter = iter(train)\n",
    "images, masks = next(dataiter)\n",
    "images.shape"
   ]
  },
  {
   "cell_type": "code",
   "execution_count": 771,
   "id": "3b84032a",
   "metadata": {},
   "outputs": [
    {
     "data": {
      "text/plain": [
       "210"
      ]
     },
     "execution_count": 771,
     "metadata": {},
     "output_type": "execute_result"
    }
   ],
   "source": [
    "len(train)"
   ]
  },
  {
   "cell_type": "code",
   "execution_count": 772,
   "id": "0b1b7302",
   "metadata": {},
   "outputs": [
    {
     "data": {
      "text/plain": [
       "25"
      ]
     },
     "execution_count": 772,
     "metadata": {},
     "output_type": "execute_result"
    }
   ],
   "source": [
    "len(val)"
   ]
  },
  {
   "cell_type": "code",
   "execution_count": 773,
   "id": "723f2a03",
   "metadata": {},
   "outputs": [
    {
     "data": {
      "text/plain": [
       "25"
      ]
     },
     "execution_count": 773,
     "metadata": {},
     "output_type": "execute_result"
    }
   ],
   "source": [
    "len(test)"
   ]
  },
  {
   "cell_type": "code",
   "execution_count": null,
   "id": "6a1aef7b",
   "metadata": {},
   "outputs": [],
   "source": []
  },
  {
   "cell_type": "code",
   "execution_count": null,
   "id": "5ce101d9",
   "metadata": {},
   "outputs": [],
   "source": []
  },
  {
   "cell_type": "markdown",
   "id": "71d14af3",
   "metadata": {},
   "source": [
    "## problem after dataloader"
   ]
  },
  {
   "cell_type": "code",
   "execution_count": 557,
   "id": "ac922fc3",
   "metadata": {},
   "outputs": [],
   "source": [
    "# Now create data loaders (same as before)\n",
    "# Now we need to create dataLoaders that will allow to iterate during training\n",
    "batch_size = 32 # create batch-based on how much memory you have and your data size\n",
    "\n",
    "traindataloader = DataLoader(train, batch_size=batch_size, num_workers=0)\n",
    "valdataloader = DataLoader(val, batch_size=batch_size, num_workers=0)\n",
    "testloader = DataLoader(test, batch_size=batch_size,num_workers=0)"
   ]
  },
  {
   "cell_type": "code",
   "execution_count": 558,
   "id": "267fef6d",
   "metadata": {
    "collapsed": true
   },
   "outputs": [
    {
     "data": {
      "text/plain": [
       "tensor([[[[[0., 0., 0.,  ..., 0., 0., 0.],\n",
       "           [0., 0., 0.,  ..., 0., 0., 0.],\n",
       "           [0., 0., 0.,  ..., 0., 0., 0.],\n",
       "           ...,\n",
       "           [0., 0., 0.,  ..., 0., 0., 0.],\n",
       "           [0., 0., 0.,  ..., 0., 0., 0.],\n",
       "           [0., 0., 0.,  ..., 0., 0., 0.]],\n",
       "\n",
       "          [[0., 0., 0.,  ..., 0., 0., 0.],\n",
       "           [0., 0., 0.,  ..., 0., 0., 0.],\n",
       "           [0., 0., 0.,  ..., 0., 0., 0.],\n",
       "           ...,\n",
       "           [0., 0., 0.,  ..., 0., 0., 0.],\n",
       "           [0., 0., 0.,  ..., 0., 0., 0.],\n",
       "           [0., 0., 0.,  ..., 0., 0., 0.]],\n",
       "\n",
       "          [[0., 0., 0.,  ..., 0., 0., 0.],\n",
       "           [0., 0., 0.,  ..., 0., 0., 0.],\n",
       "           [0., 0., 0.,  ..., 0., 0., 0.],\n",
       "           ...,\n",
       "           [0., 0., 0.,  ..., 0., 0., 0.],\n",
       "           [0., 0., 0.,  ..., 0., 0., 0.],\n",
       "           [0., 0., 0.,  ..., 0., 0., 0.]],\n",
       "\n",
       "          ...,\n",
       "\n",
       "          [[0., 0., 0.,  ..., 0., 0., 0.],\n",
       "           [0., 0., 0.,  ..., 0., 0., 0.],\n",
       "           [0., 0., 0.,  ..., 0., 0., 0.],\n",
       "           ...,\n",
       "           [0., 0., 0.,  ..., 0., 0., 0.],\n",
       "           [0., 0., 0.,  ..., 0., 0., 0.],\n",
       "           [0., 0., 0.,  ..., 0., 0., 0.]],\n",
       "\n",
       "          [[0., 0., 0.,  ..., 0., 0., 0.],\n",
       "           [0., 0., 0.,  ..., 0., 0., 0.],\n",
       "           [0., 0., 0.,  ..., 0., 0., 0.],\n",
       "           ...,\n",
       "           [0., 0., 0.,  ..., 0., 0., 0.],\n",
       "           [0., 0., 0.,  ..., 0., 0., 0.],\n",
       "           [0., 0., 0.,  ..., 0., 0., 0.]],\n",
       "\n",
       "          [[0., 0., 0.,  ..., 0., 0., 0.],\n",
       "           [0., 0., 0.,  ..., 0., 0., 0.],\n",
       "           [0., 0., 0.,  ..., 0., 0., 0.],\n",
       "           ...,\n",
       "           [0., 0., 0.,  ..., 0., 0., 0.],\n",
       "           [0., 0., 0.,  ..., 0., 0., 0.],\n",
       "           [0., 0., 0.,  ..., 0., 0., 0.]]]],\n",
       "\n",
       "\n",
       "\n",
       "        [[[[0., 0., 0.,  ..., 0., 0., 0.],\n",
       "           [0., 0., 0.,  ..., 0., 0., 0.],\n",
       "           [0., 0., 0.,  ..., 0., 0., 0.],\n",
       "           ...,\n",
       "           [0., 0., 0.,  ..., 0., 0., 0.],\n",
       "           [0., 0., 0.,  ..., 0., 0., 0.],\n",
       "           [0., 0., 0.,  ..., 0., 0., 0.]],\n",
       "\n",
       "          [[0., 0., 0.,  ..., 0., 0., 0.],\n",
       "           [0., 0., 0.,  ..., 0., 0., 0.],\n",
       "           [0., 0., 0.,  ..., 0., 0., 0.],\n",
       "           ...,\n",
       "           [0., 0., 0.,  ..., 0., 0., 0.],\n",
       "           [0., 0., 0.,  ..., 0., 0., 0.],\n",
       "           [0., 0., 0.,  ..., 0., 0., 0.]],\n",
       "\n",
       "          [[0., 0., 0.,  ..., 0., 0., 0.],\n",
       "           [0., 0., 0.,  ..., 0., 0., 0.],\n",
       "           [0., 0., 0.,  ..., 0., 0., 0.],\n",
       "           ...,\n",
       "           [0., 0., 0.,  ..., 0., 0., 0.],\n",
       "           [0., 0., 0.,  ..., 0., 0., 0.],\n",
       "           [0., 0., 0.,  ..., 0., 0., 0.]],\n",
       "\n",
       "          ...,\n",
       "\n",
       "          [[0., 0., 0.,  ..., 0., 0., 0.],\n",
       "           [0., 0., 0.,  ..., 0., 0., 0.],\n",
       "           [0., 0., 0.,  ..., 0., 0., 0.],\n",
       "           ...,\n",
       "           [0., 0., 0.,  ..., 0., 0., 0.],\n",
       "           [0., 0., 0.,  ..., 0., 0., 0.],\n",
       "           [0., 0., 0.,  ..., 0., 0., 0.]],\n",
       "\n",
       "          [[0., 0., 0.,  ..., 0., 0., 0.],\n",
       "           [0., 0., 0.,  ..., 0., 0., 0.],\n",
       "           [0., 0., 0.,  ..., 0., 0., 0.],\n",
       "           ...,\n",
       "           [0., 0., 0.,  ..., 0., 0., 0.],\n",
       "           [0., 0., 0.,  ..., 0., 0., 0.],\n",
       "           [0., 0., 0.,  ..., 0., 0., 0.]],\n",
       "\n",
       "          [[0., 0., 0.,  ..., 0., 0., 0.],\n",
       "           [0., 0., 0.,  ..., 0., 0., 0.],\n",
       "           [0., 0., 0.,  ..., 0., 0., 0.],\n",
       "           ...,\n",
       "           [0., 0., 0.,  ..., 0., 0., 0.],\n",
       "           [0., 0., 0.,  ..., 0., 0., 0.],\n",
       "           [0., 0., 0.,  ..., 0., 0., 0.]]]],\n",
       "\n",
       "\n",
       "\n",
       "        [[[[0., 0., 0.,  ..., 0., 0., 0.],\n",
       "           [0., 0., 0.,  ..., 0., 0., 0.],\n",
       "           [0., 0., 0.,  ..., 0., 0., 0.],\n",
       "           ...,\n",
       "           [0., 0., 0.,  ..., 0., 0., 0.],\n",
       "           [0., 0., 0.,  ..., 0., 0., 0.],\n",
       "           [0., 0., 0.,  ..., 0., 0., 0.]],\n",
       "\n",
       "          [[0., 0., 0.,  ..., 0., 0., 0.],\n",
       "           [0., 0., 0.,  ..., 0., 0., 0.],\n",
       "           [0., 0., 0.,  ..., 0., 0., 0.],\n",
       "           ...,\n",
       "           [0., 0., 0.,  ..., 0., 0., 0.],\n",
       "           [0., 0., 0.,  ..., 0., 0., 0.],\n",
       "           [0., 0., 0.,  ..., 0., 0., 0.]],\n",
       "\n",
       "          [[0., 0., 0.,  ..., 0., 0., 0.],\n",
       "           [0., 0., 0.,  ..., 0., 0., 0.],\n",
       "           [0., 0., 0.,  ..., 0., 0., 0.],\n",
       "           ...,\n",
       "           [0., 0., 0.,  ..., 0., 0., 0.],\n",
       "           [0., 0., 0.,  ..., 0., 0., 0.],\n",
       "           [0., 0., 0.,  ..., 0., 0., 0.]],\n",
       "\n",
       "          ...,\n",
       "\n",
       "          [[0., 0., 0.,  ..., 0., 0., 0.],\n",
       "           [0., 0., 0.,  ..., 0., 0., 0.],\n",
       "           [0., 0., 0.,  ..., 0., 0., 0.],\n",
       "           ...,\n",
       "           [0., 0., 0.,  ..., 0., 0., 0.],\n",
       "           [0., 0., 0.,  ..., 0., 0., 0.],\n",
       "           [0., 0., 0.,  ..., 0., 0., 0.]],\n",
       "\n",
       "          [[0., 0., 0.,  ..., 0., 0., 0.],\n",
       "           [0., 0., 0.,  ..., 0., 0., 0.],\n",
       "           [0., 0., 0.,  ..., 0., 0., 0.],\n",
       "           ...,\n",
       "           [0., 0., 0.,  ..., 0., 0., 0.],\n",
       "           [0., 0., 0.,  ..., 0., 0., 0.],\n",
       "           [0., 0., 0.,  ..., 0., 0., 0.]],\n",
       "\n",
       "          [[0., 0., 0.,  ..., 0., 0., 0.],\n",
       "           [0., 0., 0.,  ..., 0., 0., 0.],\n",
       "           [0., 0., 0.,  ..., 0., 0., 0.],\n",
       "           ...,\n",
       "           [0., 0., 0.,  ..., 0., 0., 0.],\n",
       "           [0., 0., 0.,  ..., 0., 0., 0.],\n",
       "           [0., 0., 0.,  ..., 0., 0., 0.]]]],\n",
       "\n",
       "\n",
       "\n",
       "        ...,\n",
       "\n",
       "\n",
       "\n",
       "        [[[[0., 0., 0.,  ..., 0., 0., 0.],\n",
       "           [0., 0., 0.,  ..., 0., 0., 0.],\n",
       "           [0., 0., 0.,  ..., 0., 0., 0.],\n",
       "           ...,\n",
       "           [0., 0., 0.,  ..., 0., 0., 0.],\n",
       "           [0., 0., 0.,  ..., 0., 0., 0.],\n",
       "           [0., 0., 0.,  ..., 0., 0., 0.]],\n",
       "\n",
       "          [[0., 0., 0.,  ..., 0., 0., 0.],\n",
       "           [0., 0., 0.,  ..., 0., 0., 0.],\n",
       "           [0., 0., 0.,  ..., 0., 0., 0.],\n",
       "           ...,\n",
       "           [0., 0., 0.,  ..., 0., 0., 0.],\n",
       "           [0., 0., 0.,  ..., 0., 0., 0.],\n",
       "           [0., 0., 0.,  ..., 0., 0., 0.]],\n",
       "\n",
       "          [[0., 0., 0.,  ..., 0., 0., 0.],\n",
       "           [0., 0., 0.,  ..., 0., 0., 0.],\n",
       "           [0., 0., 0.,  ..., 0., 0., 0.],\n",
       "           ...,\n",
       "           [0., 0., 0.,  ..., 0., 0., 0.],\n",
       "           [0., 0., 0.,  ..., 0., 0., 0.],\n",
       "           [0., 0., 0.,  ..., 0., 0., 0.]],\n",
       "\n",
       "          ...,\n",
       "\n",
       "          [[0., 0., 0.,  ..., 0., 0., 0.],\n",
       "           [0., 0., 0.,  ..., 0., 0., 0.],\n",
       "           [0., 0., 0.,  ..., 0., 0., 0.],\n",
       "           ...,\n",
       "           [0., 0., 0.,  ..., 0., 0., 0.],\n",
       "           [0., 0., 0.,  ..., 0., 0., 0.],\n",
       "           [0., 0., 0.,  ..., 0., 0., 0.]],\n",
       "\n",
       "          [[0., 0., 0.,  ..., 0., 0., 0.],\n",
       "           [0., 0., 0.,  ..., 0., 0., 0.],\n",
       "           [0., 0., 0.,  ..., 0., 0., 0.],\n",
       "           ...,\n",
       "           [0., 0., 0.,  ..., 0., 0., 0.],\n",
       "           [0., 0., 0.,  ..., 0., 0., 0.],\n",
       "           [0., 0., 0.,  ..., 0., 0., 0.]],\n",
       "\n",
       "          [[0., 0., 0.,  ..., 0., 0., 0.],\n",
       "           [0., 0., 0.,  ..., 0., 0., 0.],\n",
       "           [0., 0., 0.,  ..., 0., 0., 0.],\n",
       "           ...,\n",
       "           [0., 0., 0.,  ..., 0., 0., 0.],\n",
       "           [0., 0., 0.,  ..., 0., 0., 0.],\n",
       "           [0., 0., 0.,  ..., 0., 0., 0.]]]],\n",
       "\n",
       "\n",
       "\n",
       "        [[[[0., 0., 0.,  ..., 0., 0., 0.],\n",
       "           [0., 0., 0.,  ..., 0., 0., 0.],\n",
       "           [0., 0., 0.,  ..., 0., 0., 0.],\n",
       "           ...,\n",
       "           [0., 0., 0.,  ..., 0., 0., 0.],\n",
       "           [0., 0., 0.,  ..., 0., 0., 0.],\n",
       "           [0., 0., 0.,  ..., 0., 0., 0.]],\n",
       "\n",
       "          [[0., 0., 0.,  ..., 0., 0., 0.],\n",
       "           [0., 0., 0.,  ..., 0., 0., 0.],\n",
       "           [0., 0., 0.,  ..., 0., 0., 0.],\n",
       "           ...,\n",
       "           [0., 0., 0.,  ..., 0., 0., 0.],\n",
       "           [0., 0., 0.,  ..., 0., 0., 0.],\n",
       "           [0., 0., 0.,  ..., 0., 0., 0.]],\n",
       "\n",
       "          [[0., 0., 0.,  ..., 0., 0., 0.],\n",
       "           [0., 0., 0.,  ..., 0., 0., 0.],\n",
       "           [0., 0., 0.,  ..., 0., 0., 0.],\n",
       "           ...,\n",
       "           [0., 0., 0.,  ..., 0., 0., 0.],\n",
       "           [0., 0., 0.,  ..., 0., 0., 0.],\n",
       "           [0., 0., 0.,  ..., 0., 0., 0.]],\n",
       "\n",
       "          ...,\n",
       "\n",
       "          [[0., 0., 0.,  ..., 0., 0., 0.],\n",
       "           [0., 0., 0.,  ..., 0., 0., 0.],\n",
       "           [0., 0., 0.,  ..., 0., 0., 0.],\n",
       "           ...,\n",
       "           [0., 0., 0.,  ..., 0., 0., 0.],\n",
       "           [0., 0., 0.,  ..., 0., 0., 0.],\n",
       "           [0., 0., 0.,  ..., 0., 0., 0.]],\n",
       "\n",
       "          [[0., 0., 0.,  ..., 0., 0., 0.],\n",
       "           [0., 0., 0.,  ..., 0., 0., 0.],\n",
       "           [0., 0., 0.,  ..., 0., 0., 0.],\n",
       "           ...,\n",
       "           [0., 0., 0.,  ..., 0., 0., 0.],\n",
       "           [0., 0., 0.,  ..., 0., 0., 0.],\n",
       "           [0., 0., 0.,  ..., 0., 0., 0.]],\n",
       "\n",
       "          [[0., 0., 0.,  ..., 0., 0., 0.],\n",
       "           [0., 0., 0.,  ..., 0., 0., 0.],\n",
       "           [0., 0., 0.,  ..., 0., 0., 0.],\n",
       "           ...,\n",
       "           [0., 0., 0.,  ..., 0., 0., 0.],\n",
       "           [0., 0., 0.,  ..., 0., 0., 0.],\n",
       "           [0., 0., 0.,  ..., 0., 0., 0.]]]],\n",
       "\n",
       "\n",
       "\n",
       "        [[[[0., 0., 0.,  ..., 0., 0., 0.],\n",
       "           [0., 0., 0.,  ..., 0., 0., 0.],\n",
       "           [0., 0., 0.,  ..., 0., 0., 0.],\n",
       "           ...,\n",
       "           [0., 0., 0.,  ..., 0., 0., 0.],\n",
       "           [0., 0., 0.,  ..., 0., 0., 0.],\n",
       "           [0., 0., 0.,  ..., 0., 0., 0.]],\n",
       "\n",
       "          [[0., 0., 0.,  ..., 0., 0., 0.],\n",
       "           [0., 0., 0.,  ..., 0., 0., 0.],\n",
       "           [0., 0., 0.,  ..., 0., 0., 0.],\n",
       "           ...,\n",
       "           [0., 0., 0.,  ..., 0., 0., 0.],\n",
       "           [0., 0., 0.,  ..., 0., 0., 0.],\n",
       "           [0., 0., 0.,  ..., 0., 0., 0.]],\n",
       "\n",
       "          [[0., 0., 0.,  ..., 0., 0., 0.],\n",
       "           [0., 0., 0.,  ..., 0., 0., 0.],\n",
       "           [0., 0., 0.,  ..., 0., 0., 0.],\n",
       "           ...,\n",
       "           [0., 0., 0.,  ..., 0., 0., 0.],\n",
       "           [0., 0., 0.,  ..., 0., 0., 0.],\n",
       "           [0., 0., 0.,  ..., 0., 0., 0.]],\n",
       "\n",
       "          ...,\n",
       "\n",
       "          [[0., 0., 0.,  ..., 0., 0., 0.],\n",
       "           [0., 0., 0.,  ..., 0., 0., 0.],\n",
       "           [0., 0., 0.,  ..., 0., 0., 0.],\n",
       "           ...,\n",
       "           [0., 0., 0.,  ..., 0., 0., 0.],\n",
       "           [0., 0., 0.,  ..., 0., 0., 0.],\n",
       "           [0., 0., 0.,  ..., 0., 0., 0.]],\n",
       "\n",
       "          [[0., 0., 0.,  ..., 0., 0., 0.],\n",
       "           [0., 0., 0.,  ..., 0., 0., 0.],\n",
       "           [0., 0., 0.,  ..., 0., 0., 0.],\n",
       "           ...,\n",
       "           [0., 0., 0.,  ..., 0., 0., 0.],\n",
       "           [0., 0., 0.,  ..., 0., 0., 0.],\n",
       "           [0., 0., 0.,  ..., 0., 0., 0.]],\n",
       "\n",
       "          [[0., 0., 0.,  ..., 0., 0., 0.],\n",
       "           [0., 0., 0.,  ..., 0., 0., 0.],\n",
       "           [0., 0., 0.,  ..., 0., 0., 0.],\n",
       "           ...,\n",
       "           [0., 0., 0.,  ..., 0., 0., 0.],\n",
       "           [0., 0., 0.,  ..., 0., 0., 0.],\n",
       "           [0., 0., 0.,  ..., 0., 0., 0.]]]]])"
      ]
     },
     "execution_count": 558,
     "metadata": {},
     "output_type": "execute_result"
    }
   ],
   "source": [
    "# always check the shape of your training data\n",
    "dataiter = iter(traindataloader)\n",
    "images, masks = next(dataiter)\n",
    "images"
   ]
  },
  {
   "cell_type": "code",
   "execution_count": 559,
   "id": "c9bb245b",
   "metadata": {},
   "outputs": [
    {
     "name": "stdout",
     "output_type": "stream",
     "text": [
      "Number of training samples: 7\n",
      "Number of validation samples: 1\n",
      "Number of testing samples: 1\n"
     ]
    }
   ],
   "source": [
    "print('Number of training samples:', len(traindataloader))\n",
    "print('Number of validation samples:', len(valdataloader))\n",
    "print('Number of testing samples:', len(testloader))"
   ]
  },
  {
   "cell_type": "code",
   "execution_count": 560,
   "id": "b40d6ff8",
   "metadata": {},
   "outputs": [
    {
     "data": {
      "text/plain": [
       "torch.Size([32, 1, 43, 59, 47])"
      ]
     },
     "execution_count": 560,
     "metadata": {},
     "output_type": "execute_result"
    }
   ],
   "source": [
    "# always check the shape of your training data\n",
    "dataiter = iter(traindataloader)\n",
    "images, masks = next(dataiter)\n",
    "images.shape"
   ]
  },
  {
   "cell_type": "code",
   "execution_count": 394,
   "id": "d9260c5c",
   "metadata": {},
   "outputs": [
    {
     "name": "stdout",
     "output_type": "stream",
     "text": [
      "Plotting layer Layer 10 of image\n"
     ]
    },
    {
     "data": {
      "text/plain": [
       "<function matplotlib.pyplot.show(close=None, block=None)>"
      ]
     },
     "execution_count": 394,
     "metadata": {},
     "output_type": "execute_result"
    },
    {
     "data": {
      "image/png": "[encoded data removed]",
      "text/plain": [
       "<Figure size 432x288 with 2 Axes>"
      ]
     },
     "metadata": {},
     "output_type": "display_data"
    }
   ],
   "source": [
    "i = 10\n",
    "print(f'Plotting layer Layer {i} of image')\n",
    "plt.imshow(images[3, 0, :, :, 15], cmap = 'gray')\n",
    "plt.axis('off')\n",
    "plt.colorbar()\n",
    "plt.show"
   ]
  },
  {
   "cell_type": "code",
   "execution_count": null,
   "id": "d8276164",
   "metadata": {},
   "outputs": [],
   "source": []
  },
  {
   "cell_type": "code",
   "execution_count": null,
   "id": "3e96e9e8",
   "metadata": {},
   "outputs": [],
   "source": []
  },
  {
   "cell_type": "markdown",
   "id": "5a85f0f9",
   "metadata": {},
   "source": [
    "### import model for testing"
   ]
  },
  {
   "cell_type": "code",
   "execution_count": 598,
   "id": "be1a40a7",
   "metadata": {},
   "outputs": [
    {
     "name": "stdout",
     "output_type": "stream",
     "text": [
      "cpu\n"
     ]
    }
   ],
   "source": [
    "print(torch.device('cpu'))"
   ]
  },
  {
   "cell_type": "code",
   "execution_count": 599,
   "id": "25091206",
   "metadata": {
    "scrolled": true
   },
   "outputs": [
    {
     "data": {
      "text/plain": [
       "UNet(\n",
       "  (initial): Sequential(\n",
       "    (0): Conv3d(1, 64, kernel_size=(3, 3, 3), stride=(1, 1, 1), padding=(1, 1, 1))\n",
       "    (1): BatchNorm3d(64, eps=1e-05, momentum=0.1, affine=True, track_running_stats=True)\n",
       "    (2): ReLU()\n",
       "    (3): Conv3d(64, 64, kernel_size=(3, 3, 3), stride=(1, 1, 1), padding=(1, 1, 1))\n",
       "    (4): BatchNorm3d(64, eps=1e-05, momentum=0.1, affine=True, track_running_stats=True)\n",
       "    (5): ReLU()\n",
       "  )\n",
       "  (down1): Sequential(\n",
       "    (0): MaxPool3d(kernel_size=2, stride=2, padding=0, dilation=1, ceil_mode=False)\n",
       "    (1): Sequential(\n",
       "      (0): Conv3d(64, 128, kernel_size=(3, 3, 3), stride=(1, 1, 1), padding=(1, 1, 1))\n",
       "      (1): BatchNorm3d(128, eps=1e-05, momentum=0.1, affine=True, track_running_stats=True)\n",
       "      (2): ReLU()\n",
       "      (3): Conv3d(128, 128, kernel_size=(3, 3, 3), stride=(1, 1, 1), padding=(1, 1, 1))\n",
       "      (4): BatchNorm3d(128, eps=1e-05, momentum=0.1, affine=True, track_running_stats=True)\n",
       "      (5): ReLU()\n",
       "    )\n",
       "  )\n",
       "  (down2): Sequential(\n",
       "    (0): MaxPool3d(kernel_size=2, stride=2, padding=0, dilation=1, ceil_mode=False)\n",
       "    (1): Sequential(\n",
       "      (0): Conv3d(128, 256, kernel_size=(3, 3, 3), stride=(1, 1, 1), padding=(1, 1, 1))\n",
       "      (1): BatchNorm3d(256, eps=1e-05, momentum=0.1, affine=True, track_running_stats=True)\n",
       "      (2): ReLU()\n",
       "      (3): Conv3d(256, 256, kernel_size=(3, 3, 3), stride=(1, 1, 1), padding=(1, 1, 1))\n",
       "      (4): BatchNorm3d(256, eps=1e-05, momentum=0.1, affine=True, track_running_stats=True)\n",
       "      (5): ReLU()\n",
       "    )\n",
       "  )\n",
       "  (down3): Sequential(\n",
       "    (0): MaxPool3d(kernel_size=2, stride=2, padding=0, dilation=1, ceil_mode=False)\n",
       "    (1): Sequential(\n",
       "      (0): Conv3d(256, 512, kernel_size=(3, 3, 3), stride=(1, 1, 1), padding=(1, 1, 1))\n",
       "      (1): BatchNorm3d(512, eps=1e-05, momentum=0.1, affine=True, track_running_stats=True)\n",
       "      (2): ReLU()\n",
       "      (3): Conv3d(512, 512, kernel_size=(3, 3, 3), stride=(1, 1, 1), padding=(1, 1, 1))\n",
       "      (4): BatchNorm3d(512, eps=1e-05, momentum=0.1, affine=True, track_running_stats=True)\n",
       "      (5): ReLU()\n",
       "    )\n",
       "  )\n",
       "  (down4): Sequential(\n",
       "    (0): MaxPool3d(kernel_size=2, stride=2, padding=0, dilation=1, ceil_mode=False)\n",
       "    (1): Sequential(\n",
       "      (0): Conv3d(512, 1024, kernel_size=(3, 3, 3), stride=(1, 1, 1), padding=(1, 1, 1))\n",
       "      (1): BatchNorm3d(1024, eps=1e-05, momentum=0.1, affine=True, track_running_stats=True)\n",
       "      (2): ReLU()\n",
       "      (3): Conv3d(1024, 1024, kernel_size=(3, 3, 3), stride=(1, 1, 1), padding=(1, 1, 1))\n",
       "      (4): BatchNorm3d(1024, eps=1e-05, momentum=0.1, affine=True, track_running_stats=True)\n",
       "      (5): ReLU()\n",
       "    )\n",
       "  )\n",
       "  (up1): upsampledPart(\n",
       "    (up): ConvTranspose3d(1024, 512, kernel_size=(2, 2, 2), stride=(2, 2, 2))\n",
       "    (conv): Sequential(\n",
       "      (0): Conv3d(1024, 512, kernel_size=(3, 3, 3), stride=(1, 1, 1), padding=(1, 1, 1))\n",
       "      (1): BatchNorm3d(512, eps=1e-05, momentum=0.1, affine=True, track_running_stats=True)\n",
       "      (2): ReLU()\n",
       "      (3): Conv3d(512, 512, kernel_size=(3, 3, 3), stride=(1, 1, 1), padding=(1, 1, 1))\n",
       "      (4): BatchNorm3d(512, eps=1e-05, momentum=0.1, affine=True, track_running_stats=True)\n",
       "      (5): ReLU()\n",
       "    )\n",
       "  )\n",
       "  (up2): upsampledPart(\n",
       "    (up): ConvTranspose3d(512, 256, kernel_size=(2, 2, 2), stride=(2, 2, 2))\n",
       "    (conv): Sequential(\n",
       "      (0): Conv3d(512, 256, kernel_size=(3, 3, 3), stride=(1, 1, 1), padding=(1, 1, 1))\n",
       "      (1): BatchNorm3d(256, eps=1e-05, momentum=0.1, affine=True, track_running_stats=True)\n",
       "      (2): ReLU()\n",
       "      (3): Conv3d(256, 256, kernel_size=(3, 3, 3), stride=(1, 1, 1), padding=(1, 1, 1))\n",
       "      (4): BatchNorm3d(256, eps=1e-05, momentum=0.1, affine=True, track_running_stats=True)\n",
       "      (5): ReLU()\n",
       "    )\n",
       "  )\n",
       "  (up3): upsampledPart(\n",
       "    (up): ConvTranspose3d(256, 128, kernel_size=(2, 2, 2), stride=(2, 2, 2))\n",
       "    (conv): Sequential(\n",
       "      (0): Conv3d(256, 128, kernel_size=(3, 3, 3), stride=(1, 1, 1), padding=(1, 1, 1))\n",
       "      (1): BatchNorm3d(128, eps=1e-05, momentum=0.1, affine=True, track_running_stats=True)\n",
       "      (2): ReLU()\n",
       "      (3): Conv3d(128, 128, kernel_size=(3, 3, 3), stride=(1, 1, 1), padding=(1, 1, 1))\n",
       "      (4): BatchNorm3d(128, eps=1e-05, momentum=0.1, affine=True, track_running_stats=True)\n",
       "      (5): ReLU()\n",
       "    )\n",
       "  )\n",
       "  (up4): upsampledPart(\n",
       "    (up): ConvTranspose3d(128, 64, kernel_size=(2, 2, 2), stride=(2, 2, 2))\n",
       "    (conv): Sequential(\n",
       "      (0): Conv3d(128, 64, kernel_size=(3, 3, 3), stride=(1, 1, 1), padding=(1, 1, 1))\n",
       "      (1): BatchNorm3d(64, eps=1e-05, momentum=0.1, affine=True, track_running_stats=True)\n",
       "      (2): ReLU()\n",
       "      (3): Conv3d(64, 64, kernel_size=(3, 3, 3), stride=(1, 1, 1), padding=(1, 1, 1))\n",
       "      (4): BatchNorm3d(64, eps=1e-05, momentum=0.1, affine=True, track_running_stats=True)\n",
       "      (5): ReLU()\n",
       "    )\n",
       "  )\n",
       "  (out): Conv3d(64, 3, kernel_size=(1, 1, 1), stride=(1, 1, 1))\n",
       ")"
      ]
     },
     "execution_count": 599,
     "metadata": {},
     "output_type": "execute_result"
    }
   ],
   "source": [
    "model = UNet()\n",
    "model.load_state_dict(torch.load('/Users/zhujiayuan/Desktop/hippocampus_nn/20230221224007/UNet_hippocampus_best.pt',map_location='cpu'))\n",
    "\n",
    "\n",
    "model.eval()"
   ]
  },
  {
   "cell_type": "code",
   "execution_count": null,
   "id": "b60281fd",
   "metadata": {},
   "outputs": [],
   "source": []
  },
  {
   "cell_type": "code",
   "execution_count": 600,
   "id": "dc413d95",
   "metadata": {},
   "outputs": [],
   "source": [
    "device = 'cpu'"
   ]
  },
  {
   "cell_type": "code",
   "execution_count": 638,
   "id": "7d07d426",
   "metadata": {},
   "outputs": [
    {
     "data": {
      "text/plain": [
       "torch.Size([25, 1, 43, 59, 47])"
      ]
     },
     "execution_count": 638,
     "metadata": {},
     "output_type": "execute_result"
    }
   ],
   "source": [
    "dataiter = iter(testloader)\n",
    "images, masks = next(dataiter)\n",
    "output = model(images.to(device))\n",
    "\n",
    "images.shape"
   ]
  },
  {
   "cell_type": "code",
   "execution_count": null,
   "id": "f1238654",
   "metadata": {},
   "outputs": [],
   "source": []
  },
  {
   "cell_type": "code",
   "execution_count": null,
   "id": "f6cedfe7",
   "metadata": {},
   "outputs": [],
   "source": []
  },
  {
   "cell_type": "code",
   "execution_count": 680,
   "id": "a43d628f",
   "metadata": {},
   "outputs": [
    {
     "data": {
      "text/plain": [
       "torch.Size([1, 1, 50, 60, 50])"
      ]
     },
     "execution_count": 680,
     "metadata": {},
     "output_type": "execute_result"
    }
   ],
   "source": [
    "transform = tio.CropOrPad((50,60,50))\n",
    "a = transform(images[0])\n",
    "\n",
    "a = torch.unsqueeze(a.float(),dim=0)\n",
    "a.shape"
   ]
  },
  {
   "cell_type": "code",
   "execution_count": 681,
   "id": "60c95d1b",
   "metadata": {},
   "outputs": [],
   "source": [
    "output_test_size = model(a)"
   ]
  },
  {
   "cell_type": "code",
   "execution_count": 682,
   "id": "0ae50ca8",
   "metadata": {},
   "outputs": [
    {
     "data": {
      "text/plain": [
       "(array([145226.,      0.,      0.,      0.,      0.,   2181.,      0.,\n",
       "             0.,      0.,   2593.]),\n",
       " array([0. , 0.2, 0.4, 0.6, 0.8, 1. , 1.2, 1.4, 1.6, 1.8, 2. ]),\n",
       " <BarContainer object of 10 artists>)"
      ]
     },
     "execution_count": 682,
     "metadata": {},
     "output_type": "execute_result"
    },
    {
     "data": {
      "image/png": "[encoded data removed]",
      "text/plain": [
       "<Figure size 432x288 with 1 Axes>"
      ]
     },
     "metadata": {},
     "output_type": "display_data"
    }
   ],
   "source": [
    "output_test_size = torch.argmax(output_test_size,dim=1)\n",
    "\n",
    "plt.hist(output_test_size.numpy().flatten())"
   ]
  },
  {
   "cell_type": "code",
   "execution_count": 685,
   "id": "c061ec85",
   "metadata": {},
   "outputs": [
    {
     "data": {
      "text/plain": [
       "torch.Size([1, 50, 60, 50])"
      ]
     },
     "execution_count": 685,
     "metadata": {},
     "output_type": "execute_result"
    }
   ],
   "source": [
    "#torch(output_test_size"
   ]
  },
  {
   "cell_type": "code",
   "execution_count": 687,
   "id": "4e551380",
   "metadata": {},
   "outputs": [],
   "source": [
    "ni_img = nib.Nifti1Image(np.squeeze(output_test_size.numpy()), image_obj.affine, image_obj.header)\n",
    "nib.save(ni_img, \"test2.nii.gz\")"
   ]
  },
  {
   "cell_type": "code",
   "execution_count": null,
   "id": "5228a00a",
   "metadata": {},
   "outputs": [],
   "source": []
  },
  {
   "cell_type": "code",
   "execution_count": null,
   "id": "418403ef",
   "metadata": {},
   "outputs": [],
   "source": []
  },
  {
   "cell_type": "code",
   "execution_count": null,
   "id": "c28164f7",
   "metadata": {},
   "outputs": [],
   "source": []
  },
  {
   "cell_type": "code",
   "execution_count": 667,
   "id": "fa39b906",
   "metadata": {},
   "outputs": [
    {
     "data": {
      "text/plain": [
       "(array([70416.,     0.,     0.,     0.,     0.,  2570.,     0.,     0.,\n",
       "            0.,  2938.]),\n",
       " array([0. , 0.2, 0.4, 0.6, 0.8, 1. , 1.2, 1.4, 1.6, 1.8, 2. ]),\n",
       " <BarContainer object of 10 artists>)"
      ]
     },
     "execution_count": 667,
     "metadata": {},
     "output_type": "execute_result"
    },
    {
     "data": {
      "image/png": "[encoded data removed]",
      "text/plain": [
       "<Figure size 432x288 with 1 Axes>"
      ]
     },
     "metadata": {},
     "output_type": "display_data"
    }
   ],
   "source": [
    "image_test_size = glob.glob('/Users/zhujiayuan/Downloads/Task04_Hippocampus/imagesTr' + \"/*.nii.gz\")\n",
    "# a = nib.load(image_test_size[0]).get_fdata()\n",
    "# a = torch.from_numpy(a)\n",
    "\n",
    "# a = torch.unsqueeze(a.float(),dim=0)\n",
    "# a = torch.unsqueeze(a.float(),dim=0)\n",
    "# a.shape\n",
    "\n",
    "image = tio.ScalarImage(image_test_size[0])\n",
    "        \n",
    "# normalization\n",
    "transform = tio.transforms.ZNormalization()\n",
    "a = transform(image).data\n",
    "a = torch.unsqueeze(a.float(),dim=0)\n",
    "a.shape\n",
    "\n",
    "output_test_size = model(a)\n",
    "\n",
    "output_test_size = torch.argmax(output_test_size,dim=1)\n",
    "\n",
    "plt.hist(output_test_size.numpy().flatten())"
   ]
  },
  {
   "cell_type": "code",
   "execution_count": 657,
   "id": "ed992454",
   "metadata": {},
   "outputs": [],
   "source": []
  },
  {
   "cell_type": "code",
   "execution_count": null,
   "id": "1103ac98",
   "metadata": {},
   "outputs": [],
   "source": []
  },
  {
   "cell_type": "code",
   "execution_count": 604,
   "id": "e3bc9191",
   "metadata": {},
   "outputs": [
    {
     "name": "stdout",
     "output_type": "stream",
     "text": [
      "tensor(2)\n",
      "torch.Size([25, 43, 59, 47])\n"
     ]
    }
   ],
   "source": [
    "output_label = torch.argmax(output,dim=1)\n",
    "print(torch.max(output_label))\n",
    "print(output_label.shape)"
   ]
  },
  {
   "cell_type": "code",
   "execution_count": 605,
   "id": "398f4b48",
   "metadata": {},
   "outputs": [
    {
     "data": {
      "text/plain": [
       "(array([114508.,      0.,      0.,      0.,      0.,   2146.,      0.,\n",
       "             0.,      0.,   2585.]),\n",
       " array([0. , 0.2, 0.4, 0.6, 0.8, 1. , 1.2, 1.4, 1.6, 1.8, 2. ]),\n",
       " <BarContainer object of 10 artists>)"
      ]
     },
     "execution_count": 605,
     "metadata": {},
     "output_type": "execute_result"
    },
    {
     "data": {
      "image/png": "[encoded data removed]",
      "text/plain": [
       "<Figure size 432x288 with 1 Axes>"
      ]
     },
     "metadata": {},
     "output_type": "display_data"
    }
   ],
   "source": [
    "# changed weight (1,5,10)\n",
    "plt.hist(output_label[0].numpy().flatten())"
   ]
  },
  {
   "cell_type": "code",
   "execution_count": null,
   "id": "5bb87da8",
   "metadata": {},
   "outputs": [],
   "source": []
  },
  {
   "cell_type": "code",
   "execution_count": 569,
   "id": "57f123d5",
   "metadata": {},
   "outputs": [
    {
     "data": {
      "text/plain": [
       "(array([85677.,     0.,     0.,     0.,     0.,  2076.,     0.,     0.,\n",
       "            0., 31486.]),\n",
       " array([0. , 0.2, 0.4, 0.6, 0.8, 1. , 1.2, 1.4, 1.6, 1.8, 2. ]),\n",
       " <BarContainer object of 10 artists>)"
      ]
     },
     "execution_count": 569,
     "metadata": {},
     "output_type": "execute_result"
    },
    {
     "data": {
      "image/png": "[encoded data removed]",
      "text/plain": [
       "<Figure size 432x288 with 1 Axes>"
      ]
     },
     "metadata": {},
     "output_type": "display_data"
    }
   ],
   "source": [
    "# weight 1,100,100\n",
    "plt.hist(output_label[0].numpy().flatten())"
   ]
  },
  {
   "cell_type": "code",
   "execution_count": 606,
   "id": "a68c6866",
   "metadata": {},
   "outputs": [],
   "source": [
    "image_path = '/Users/zhujiayuan/Desktop/hippocampus_nn/Task04_Hippocampus/test/labels/100.nii.gz'\n",
    "image_obj = nib.load(image_path)"
   ]
  },
  {
   "cell_type": "code",
   "execution_count": 607,
   "id": "03da407a",
   "metadata": {
    "scrolled": true
   },
   "outputs": [],
   "source": [
    "ni_img = nib.Nifti1Image(output_label[0].numpy(), image_obj.affine, image_obj.header)\n",
    "nib.save(ni_img, \"test1.nii.gz\")"
   ]
  },
  {
   "cell_type": "code",
   "execution_count": null,
   "id": "d1021be3",
   "metadata": {},
   "outputs": [],
   "source": []
  },
  {
   "cell_type": "code",
   "execution_count": null,
   "id": "cfcf24c0",
   "metadata": {},
   "outputs": [],
   "source": []
  },
  {
   "cell_type": "code",
   "execution_count": 711,
   "id": "45b0ef66",
   "metadata": {},
   "outputs": [
    {
     "data": {
      "text/plain": [
       "['Task04_Hippocampus/test/labels/100.nii.gz',\n",
       " 'Task04_Hippocampus/test/labels/134.nii.gz',\n",
       " 'Task04_Hippocampus/test/labels/135.nii.gz',\n",
       " 'Task04_Hippocampus/test/labels/149.nii.gz',\n",
       " 'Task04_Hippocampus/test/labels/165.nii.gz',\n",
       " 'Task04_Hippocampus/test/labels/17.nii.gz',\n",
       " 'Task04_Hippocampus/test/labels/175.nii.gz',\n",
       " 'Task04_Hippocampus/test/labels/201.nii.gz',\n",
       " 'Task04_Hippocampus/test/labels/207.nii.gz',\n",
       " 'Task04_Hippocampus/test/labels/211.nii.gz',\n",
       " 'Task04_Hippocampus/test/labels/213.nii.gz',\n",
       " 'Task04_Hippocampus/test/labels/214.nii.gz',\n",
       " 'Task04_Hippocampus/test/labels/217.nii.gz',\n",
       " 'Task04_Hippocampus/test/labels/229.nii.gz',\n",
       " 'Task04_Hippocampus/test/labels/23.nii.gz',\n",
       " 'Task04_Hippocampus/test/labels/244.nii.gz',\n",
       " 'Task04_Hippocampus/test/labels/253.nii.gz',\n",
       " 'Task04_Hippocampus/test/labels/255.nii.gz',\n",
       " 'Task04_Hippocampus/test/labels/256.nii.gz',\n",
       " 'Task04_Hippocampus/test/labels/30.nii.gz',\n",
       " 'Task04_Hippocampus/test/labels/50.nii.gz',\n",
       " 'Task04_Hippocampus/test/labels/74.nii.gz',\n",
       " 'Task04_Hippocampus/test/labels/81.nii.gz',\n",
       " 'Task04_Hippocampus/test/labels/92.nii.gz',\n",
       " 'Task04_Hippocampus/test/labels/96.nii.gz']"
      ]
     },
     "execution_count": 711,
     "metadata": {},
     "output_type": "execute_result"
    }
   ],
   "source": [
    "def read_file_to_list(file_name):\n",
    "    list_name = []\n",
    "    with open(file_name) as file:\n",
    "        for line in file:\n",
    "            list_name.append(line.rstrip())\n",
    "    return list_name\n",
    "\n",
    "label_list = read_file_to_list('/Users/zhujiayuan/Desktop/hippocampus_nn/Task04_Hippocampus/test/labels_list.txt') \n",
    "label_list"
   ]
  },
  {
   "cell_type": "code",
   "execution_count": null,
   "id": "788f2924",
   "metadata": {},
   "outputs": [],
   "source": []
  },
  {
   "cell_type": "code",
   "execution_count": 782,
   "id": "488b004f",
   "metadata": {
    "collapsed": true
   },
   "outputs": [
    {
     "data": {
      "text/plain": [
       "UNet(\n",
       "  (initial): Sequential(\n",
       "    (0): Conv3d(1, 64, kernel_size=(3, 3, 3), stride=(1, 1, 1), padding=(1, 1, 1))\n",
       "    (1): BatchNorm3d(64, eps=1e-05, momentum=0.1, affine=True, track_running_stats=True)\n",
       "    (2): ReLU()\n",
       "    (3): Conv3d(64, 64, kernel_size=(3, 3, 3), stride=(1, 1, 1), padding=(1, 1, 1))\n",
       "    (4): BatchNorm3d(64, eps=1e-05, momentum=0.1, affine=True, track_running_stats=True)\n",
       "    (5): ReLU()\n",
       "  )\n",
       "  (down1): Sequential(\n",
       "    (0): MaxPool3d(kernel_size=2, stride=2, padding=0, dilation=1, ceil_mode=False)\n",
       "    (1): Sequential(\n",
       "      (0): Conv3d(64, 128, kernel_size=(3, 3, 3), stride=(1, 1, 1), padding=(1, 1, 1))\n",
       "      (1): BatchNorm3d(128, eps=1e-05, momentum=0.1, affine=True, track_running_stats=True)\n",
       "      (2): ReLU()\n",
       "      (3): Conv3d(128, 128, kernel_size=(3, 3, 3), stride=(1, 1, 1), padding=(1, 1, 1))\n",
       "      (4): BatchNorm3d(128, eps=1e-05, momentum=0.1, affine=True, track_running_stats=True)\n",
       "      (5): ReLU()\n",
       "    )\n",
       "  )\n",
       "  (down2): Sequential(\n",
       "    (0): MaxPool3d(kernel_size=2, stride=2, padding=0, dilation=1, ceil_mode=False)\n",
       "    (1): Sequential(\n",
       "      (0): Conv3d(128, 256, kernel_size=(3, 3, 3), stride=(1, 1, 1), padding=(1, 1, 1))\n",
       "      (1): BatchNorm3d(256, eps=1e-05, momentum=0.1, affine=True, track_running_stats=True)\n",
       "      (2): ReLU()\n",
       "      (3): Conv3d(256, 256, kernel_size=(3, 3, 3), stride=(1, 1, 1), padding=(1, 1, 1))\n",
       "      (4): BatchNorm3d(256, eps=1e-05, momentum=0.1, affine=True, track_running_stats=True)\n",
       "      (5): ReLU()\n",
       "    )\n",
       "  )\n",
       "  (down3): Sequential(\n",
       "    (0): MaxPool3d(kernel_size=2, stride=2, padding=0, dilation=1, ceil_mode=False)\n",
       "    (1): Sequential(\n",
       "      (0): Conv3d(256, 512, kernel_size=(3, 3, 3), stride=(1, 1, 1), padding=(1, 1, 1))\n",
       "      (1): BatchNorm3d(512, eps=1e-05, momentum=0.1, affine=True, track_running_stats=True)\n",
       "      (2): ReLU()\n",
       "      (3): Conv3d(512, 512, kernel_size=(3, 3, 3), stride=(1, 1, 1), padding=(1, 1, 1))\n",
       "      (4): BatchNorm3d(512, eps=1e-05, momentum=0.1, affine=True, track_running_stats=True)\n",
       "      (5): ReLU()\n",
       "    )\n",
       "  )\n",
       "  (down4): Sequential(\n",
       "    (0): MaxPool3d(kernel_size=2, stride=2, padding=0, dilation=1, ceil_mode=False)\n",
       "    (1): Sequential(\n",
       "      (0): Conv3d(512, 1024, kernel_size=(3, 3, 3), stride=(1, 1, 1), padding=(1, 1, 1))\n",
       "      (1): BatchNorm3d(1024, eps=1e-05, momentum=0.1, affine=True, track_running_stats=True)\n",
       "      (2): ReLU()\n",
       "      (3): Conv3d(1024, 1024, kernel_size=(3, 3, 3), stride=(1, 1, 1), padding=(1, 1, 1))\n",
       "      (4): BatchNorm3d(1024, eps=1e-05, momentum=0.1, affine=True, track_running_stats=True)\n",
       "      (5): ReLU()\n",
       "    )\n",
       "  )\n",
       "  (up1): upsampledPart(\n",
       "    (up): ConvTranspose3d(1024, 512, kernel_size=(2, 2, 2), stride=(2, 2, 2))\n",
       "    (conv): Sequential(\n",
       "      (0): Conv3d(1024, 512, kernel_size=(3, 3, 3), stride=(1, 1, 1), padding=(1, 1, 1))\n",
       "      (1): BatchNorm3d(512, eps=1e-05, momentum=0.1, affine=True, track_running_stats=True)\n",
       "      (2): ReLU()\n",
       "      (3): Conv3d(512, 512, kernel_size=(3, 3, 3), stride=(1, 1, 1), padding=(1, 1, 1))\n",
       "      (4): BatchNorm3d(512, eps=1e-05, momentum=0.1, affine=True, track_running_stats=True)\n",
       "      (5): ReLU()\n",
       "    )\n",
       "  )\n",
       "  (up2): upsampledPart(\n",
       "    (up): ConvTranspose3d(512, 256, kernel_size=(2, 2, 2), stride=(2, 2, 2))\n",
       "    (conv): Sequential(\n",
       "      (0): Conv3d(512, 256, kernel_size=(3, 3, 3), stride=(1, 1, 1), padding=(1, 1, 1))\n",
       "      (1): BatchNorm3d(256, eps=1e-05, momentum=0.1, affine=True, track_running_stats=True)\n",
       "      (2): ReLU()\n",
       "      (3): Conv3d(256, 256, kernel_size=(3, 3, 3), stride=(1, 1, 1), padding=(1, 1, 1))\n",
       "      (4): BatchNorm3d(256, eps=1e-05, momentum=0.1, affine=True, track_running_stats=True)\n",
       "      (5): ReLU()\n",
       "    )\n",
       "  )\n",
       "  (up3): upsampledPart(\n",
       "    (up): ConvTranspose3d(256, 128, kernel_size=(2, 2, 2), stride=(2, 2, 2))\n",
       "    (conv): Sequential(\n",
       "      (0): Conv3d(256, 128, kernel_size=(3, 3, 3), stride=(1, 1, 1), padding=(1, 1, 1))\n",
       "      (1): BatchNorm3d(128, eps=1e-05, momentum=0.1, affine=True, track_running_stats=True)\n",
       "      (2): ReLU()\n",
       "      (3): Conv3d(128, 128, kernel_size=(3, 3, 3), stride=(1, 1, 1), padding=(1, 1, 1))\n",
       "      (4): BatchNorm3d(128, eps=1e-05, momentum=0.1, affine=True, track_running_stats=True)\n",
       "      (5): ReLU()\n",
       "    )\n",
       "  )\n",
       "  (up4): upsampledPart(\n",
       "    (up): ConvTranspose3d(128, 64, kernel_size=(2, 2, 2), stride=(2, 2, 2))\n",
       "    (conv): Sequential(\n",
       "      (0): Conv3d(128, 64, kernel_size=(3, 3, 3), stride=(1, 1, 1), padding=(1, 1, 1))\n",
       "      (1): BatchNorm3d(64, eps=1e-05, momentum=0.1, affine=True, track_running_stats=True)\n",
       "      (2): ReLU()\n",
       "      (3): Conv3d(64, 64, kernel_size=(3, 3, 3), stride=(1, 1, 1), padding=(1, 1, 1))\n",
       "      (4): BatchNorm3d(64, eps=1e-05, momentum=0.1, affine=True, track_running_stats=True)\n",
       "      (5): ReLU()\n",
       "    )\n",
       "  )\n",
       "  (out): Conv3d(64, 3, kernel_size=(1, 1, 1), stride=(1, 1, 1))\n",
       ")"
      ]
     },
     "execution_count": 782,
     "metadata": {},
     "output_type": "execute_result"
    }
   ],
   "source": [
    "basic_root = '/Users/zhujiayuan/Desktop/hippocampus_nn/'\n",
    "root = '20230222030004'\n",
    "root_result = os.path.join(basic_root, 'result', root)\n",
    "model_root = os.path.join(root_result, 'UNet_hippocampus_best.pt')\n",
    "    \n",
    "model = UNet()\n",
    "model.load_state_dict(torch.load(model_root, map_location='cpu'))\n",
    "model.eval()"
   ]
  },
  {
   "cell_type": "code",
   "execution_count": 800,
   "id": "d5926ba2",
   "metadata": {},
   "outputs": [],
   "source": [
    "image_path = '/Users/zhujiayuan/Desktop/hippocampus_nn/HCP_sample/100206/MNINonLinear/T1w.nii.gz'\n",
    "\n",
    "image = tio.ScalarImage(image_path)\n",
    "        \n",
    "# normalization\n",
    "transform = tio.transforms.ZNormalization()\n",
    "image = transform(image)"
   ]
  },
  {
   "cell_type": "code",
   "execution_count": 801,
   "id": "d95dc375",
   "metadata": {},
   "outputs": [
    {
     "data": {
      "text/plain": [
       "torch.Size([1, 260, 311, 260])"
      ]
     },
     "execution_count": 801,
     "metadata": {},
     "output_type": "execute_result"
    }
   ],
   "source": [
    "image = image.data\n",
    "image.shape"
   ]
  },
  {
   "cell_type": "code",
   "execution_count": 802,
   "id": "0ff5c02a",
   "metadata": {
    "scrolled": true
   },
   "outputs": [
    {
     "name": "stdout",
     "output_type": "stream",
     "text": [
      "torch.Size([1, 1, 260, 311, 260])\n"
     ]
    }
   ],
   "source": [
    "\n",
    "\n",
    "image = torch.unsqueeze(image.float(),dim=0)\n",
    "\n",
    "print(image.shape)"
   ]
  },
  {
   "cell_type": "code",
   "execution_count": null,
   "id": "fc9f2fef",
   "metadata": {},
   "outputs": [],
   "source": [
    "output = model(image.to(device))\n",
    "output_label = torch.argmax(output,dim=1)"
   ]
  },
  {
   "cell_type": "code",
   "execution_count": null,
   "id": "0eba9560",
   "metadata": {},
   "outputs": [],
   "source": [
    "plt.hist(output_label.numpy().flatten())"
   ]
  },
  {
   "cell_type": "code",
   "execution_count": null,
   "id": "1881340e",
   "metadata": {},
   "outputs": [],
   "source": []
  },
  {
   "cell_type": "code",
   "execution_count": null,
   "id": "b8d6bacd",
   "metadata": {},
   "outputs": [],
   "source": []
  },
  {
   "cell_type": "code",
   "execution_count": null,
   "id": "2ad1c23c",
   "metadata": {},
   "outputs": [],
   "source": []
  },
  {
   "cell_type": "code",
   "execution_count": null,
   "id": "08c2c3d3",
   "metadata": {},
   "outputs": [],
   "source": []
  },
  {
   "cell_type": "code",
   "execution_count": 766,
   "id": "c76a1f78",
   "metadata": {},
   "outputs": [],
   "source": [
    "basic_root = '/Users/zhujiayuan/Desktop/hippocampus_nn/'\n",
    "for root in ['20230222005916', '20230222022206', '20230222030004']:\n",
    "    root_result = os.path.join(basic_root, 'result', root)\n",
    "    model_root = os.path.join(root_result, 'UNet_hippocampus_best.pt')\n",
    "    model = UNet()\n",
    "    model.load_state_dict(torch.load(model_root, map_location='cpu'))\n",
    "    model.eval()\n",
    "    \n",
    "    dataiter = iter(testloader)\n",
    "    images, masks = next(dataiter)\n",
    "    output = model(images.to(device))\n",
    "    output_label = torch.argmax(output,dim=1)\n",
    "    \n",
    "    label_list = read_file_to_list('/Users/zhujiayuan/Desktop/hippocampus_nn/Task04_Hippocampus/test/labels_list.txt') \n",
    "\n",
    "    #plt.hist(output_test_size.numpy().flatten())\n",
    "    \n",
    "    for i in range(len(label_list)):\n",
    "        label_path = label_list[i]\n",
    "        label_path = os.path.join(basic_root, label_path)\n",
    "        label_obj = nib.load(label_path)\n",
    "        ni_img = nib.Nifti1Image(output_label[i].numpy(), label_obj.affine, label_obj.header)\n",
    "        nib.save(ni_img, os.path.join(root_result, label_path[72:]))\n",
    "\n",
    "\n",
    "    \n"
   ]
  },
  {
   "cell_type": "code",
   "execution_count": null,
   "id": "dcc19be7",
   "metadata": {},
   "outputs": [],
   "source": []
  },
  {
   "cell_type": "code",
   "execution_count": null,
   "id": "2043e1d5",
   "metadata": {},
   "outputs": [],
   "source": []
  },
  {
   "cell_type": "code",
   "execution_count": null,
   "id": "259edb32",
   "metadata": {},
   "outputs": [],
   "source": []
  },
  {
   "cell_type": "code",
   "execution_count": null,
   "id": "a5b2a9bc",
   "metadata": {},
   "outputs": [],
   "source": []
  }
 ],
 "metadata": {
  "kernelspec": {
   "display_name": "Python 3",
   "language": "python",
   "name": "python3"
  },
  "language_info": {
   "codemirror_mode": {
    "name": "ipython",
    "version": 3
   },
   "file_extension": ".py",
   "mimetype": "text/x-python",
   "name": "python",
   "nbconvert_exporter": "python",
   "pygments_lexer": "ipython3",
   "version": "3.8.8"
  }
 },
 "nbformat": 4,
 "nbformat_minor": 5
}
