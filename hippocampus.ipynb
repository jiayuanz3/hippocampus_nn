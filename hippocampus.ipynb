{
 "cells": [
  {
   "cell_type": "code",
   "execution_count": 1,
   "id": "82f1c5e3",
   "metadata": {},
   "outputs": [],
   "source": [
    "import numpy as np\n",
    "import nibabel as nib\n",
    "import itk\n",
    "import itkwidgets\n",
    "from ipywidgets import interact, interactive, IntSlider, ToggleButtons\n",
    "import matplotlib.pyplot as plt\n",
    "%matplotlib inline\n",
    "\n",
    "import seaborn as sns\n",
    "sns.set_style('darkgrid')"
   ]
  },
  {
   "cell_type": "code",
   "execution_count": 2,
   "id": "ced0ccf0",
   "metadata": {},
   "outputs": [
    {
     "name": "stdout",
     "output_type": "stream",
     "text": [
      "Type of the image <class 'nibabel.nifti1.Nifti1Image'>.\n"
     ]
    }
   ],
   "source": [
    "image_path = '/Users/zhujiayuan/Downloads/Task04_Hippocampus/imagesTr/hippocampus_001.nii.gz'\n",
    "image_obj = nib.load(image_path)\n",
    "print(f'Type of the image {type(image_obj)}.')"
   ]
  },
  {
   "cell_type": "code",
   "execution_count": 3,
   "id": "d484f2b2",
   "metadata": {},
   "outputs": [
    {
     "data": {
      "text/plain": [
       "numpy.ndarray"
      ]
     },
     "execution_count": 3,
     "metadata": {},
     "output_type": "execute_result"
    }
   ],
   "source": [
    "# Turn into numpy array\n",
    "#array = np.array(image.dataobj)\n",
    "image_data = image_obj.get_fdata()\n",
    "type(image_data)"
   ]
  },
  {
   "cell_type": "code",
   "execution_count": 6,
   "id": "f31e0cc3",
   "metadata": {},
   "outputs": [
    {
     "data": {
      "text/plain": [
       "(35, 51, 35)"
      ]
     },
     "execution_count": 6,
     "metadata": {},
     "output_type": "execute_result"
    }
   ],
   "source": [
    "image_data.shape"
   ]
  },
  {
   "cell_type": "code",
   "execution_count": 7,
   "id": "762ecfa1",
   "metadata": {},
   "outputs": [
    {
     "name": "stdout",
     "output_type": "stream",
     "text": [
      "The image object has the following dimensions:\n",
      "height=35\n",
      "width=51\n",
      "depth=35\n"
     ]
    }
   ],
   "source": [
    "# Get the image shape and print it out\n",
    "height, width, depth= image_data.shape\n",
    "print(f'The image object has the following dimensions:\\nheight={height}\\nwidth={width}\\ndepth={depth}')"
   ]
  },
  {
   "cell_type": "markdown",
   "id": "335366ca",
   "metadata": {},
   "source": [
    "### Visualize"
   ]
  },
  {
   "cell_type": "code",
   "execution_count": 13,
   "id": "da76bec9",
   "metadata": {},
   "outputs": [
    {
     "name": "stdout",
     "output_type": "stream",
     "text": [
      "Plotting layer Layer 17 of image\n"
     ]
    },
    {
     "data": {
      "text/plain": [
       "<function matplotlib.pyplot.show(close=None, block=None)>"
      ]
     },
     "execution_count": 13,
     "metadata": {},
     "output_type": "execute_result"
    },
    {
     "data": {
      "image/png": "[encoded data removed]",
      "text/plain": [
       "<Figure size 432x288 with 1 Axes>"
      ]
     },
     "metadata": {},
     "output_type": "display_data"
    }
   ],
   "source": [
    "# Select random layer number\n",
    "maxval = 35\n",
    "i = np.random.randint(0, maxval)\n",
    "\n",
    "print(f'Plotting layer Layer {i} of image')\n",
    "plt.imshow(image_data[:, :, i], cmap = 'gray')\n",
    "plt.axis('off')\n",
    "plt.show"
   ]
  },
  {
   "cell_type": "code",
   "execution_count": 14,
   "id": "6692aa03",
   "metadata": {},
   "outputs": [
    {
     "data": {
      "application/vnd.jupyter.widget-view+json": {
       "model_id": "c8567ad6e8d145549fcfef01f1c6d88b",
       "version_major": 2,
       "version_minor": 0
      },
      "text/plain": [
       "interactive(children=(IntSlider(value=17, description='layer', max=34), Output()), _dom_classes=('widget-inter…"
      ]
     },
     "metadata": {},
     "output_type": "display_data"
    },
    {
     "data": {
      "text/plain": [
       "<function __main__.explore_3d_image(layer)>"
      ]
     },
     "execution_count": 14,
     "metadata": {},
     "output_type": "execute_result"
    }
   ],
   "source": [
    "# define a function to visualize the data\n",
    "def explore_3d_image(layer):\n",
    "    plt.figure(figsize=(10,15))\n",
    "    plt.imshow(image_data[:, :, layer], cmap = 'gray')\n",
    "    plt.title('Explore Layers of Brain MRI', family = 'Arial', fontsize=20)\n",
    "    plt.axis('off')\n",
    "    return layer\n",
    "\n",
    "# run the ipywidgets interact() function to explore data\n",
    "interact(explore_3d_image, layer=(0,image_data.shape[2]-1))"
   ]
  },
  {
   "cell_type": "code",
   "execution_count": null,
   "id": "00cea693",
   "metadata": {},
   "outputs": [],
   "source": []
  },
  {
   "cell_type": "code",
   "execution_count": 18,
   "id": "524357ac",
   "metadata": {},
   "outputs": [
    {
     "data": {
      "text/plain": [
       "nibabel.nifti1.Nifti1Image"
      ]
     },
     "execution_count": 18,
     "metadata": {},
     "output_type": "execute_result"
    }
   ],
   "source": [
    "label_path = '/Users/zhujiayuan/Downloads/Task04_Hippocampus/labelsTr/hippocampus_001.nii.gz'\n",
    "label_obj = nib.load(label_path)\n",
    "type(label_obj)"
   ]
  },
  {
   "cell_type": "code",
   "execution_count": 19,
   "id": "3365ce99",
   "metadata": {},
   "outputs": [
    {
     "data": {
      "text/plain": [
       "numpy.ndarray"
      ]
     },
     "execution_count": 19,
     "metadata": {},
     "output_type": "execute_result"
    }
   ],
   "source": [
    "label_array = label_obj.get_fdata()\n",
    "type(label_array)"
   ]
  },
  {
   "cell_type": "code",
   "execution_count": 20,
   "id": "16e4547e",
   "metadata": {},
   "outputs": [
    {
     "name": "stdout",
     "output_type": "stream",
     "text": [
      "The label object has the following dimensions:\n",
      "height=35\n",
      "width=51\n",
      "depth=35\n"
     ]
    }
   ],
   "source": [
    "height,width,depth=label_array.shape\n",
    "print(f'The label object has the following dimensions:\\nheight={height}\\nwidth={width}\\ndepth={depth}')"
   ]
  },
  {
   "cell_type": "code",
   "execution_count": 26,
   "id": "83fa9eb8",
   "metadata": {},
   "outputs": [
    {
     "name": "stdout",
     "output_type": "stream",
     "text": [
      "With the unique values: [0. 1. 2.]\n",
      "\n",
      "Corresponding to the following label categories\n",
      "0: background,\n",
      "1: Anterior,\n",
      "2: Posterior\n",
      "\n"
     ]
    }
   ],
   "source": [
    "print(f'With the unique values: {np.unique(label_array)}')\n",
    "\n",
    "print('''\\nCorresponding to the following label categories\n",
    "0: background,\n",
    "1: Anterior,\n",
    "2: Posterior\n",
    "''')"
   ]
  },
  {
   "cell_type": "markdown",
   "id": "ae00652d",
   "metadata": {},
   "source": [
    "### visualize the data for specific labels"
   ]
  },
  {
   "cell_type": "code",
   "execution_count": 73,
   "id": "fa6b12e5",
   "metadata": {},
   "outputs": [
    {
     "data": {
      "image/png": "[encoded data removed]",
      "text/plain": [
       "<Figure size 2880x1800 with 3 Axes>"
      ]
     },
     "metadata": {},
     "output_type": "display_data"
    }
   ],
   "source": [
    "# define a single layer for plotting\n",
    "layer = 10\n",
    "\n",
    "# define a dictionary of class labels\n",
    "classes_dict = {\n",
    "    'background': 0,\n",
    "    'Anterior':1,\n",
    "    'Posterior': 2\n",
    "}\n",
    "\n",
    "# set up for plotting\n",
    "fig, ax = plt.subplots(nrows=1, ncols=3, figsize=(40,25))\n",
    "for i in range(3):\n",
    "    img_label_str = list(classes_dict.keys())[i]\n",
    "    img = label_array[:, :, layer]\n",
    "    mask = np.where(img==classes_dict[img_label_str], 255, 0)\n",
    "    ax[i].imshow(mask)\n",
    "    ax[i].set_title(f'Layer {layer} for {img_label_str}', fontsize=45, family = 'Arial')\n",
    "    ax[i].axis('off')\n",
    "plt.tight_layout()"
   ]
  },
  {
   "cell_type": "markdown",
   "id": "42ec4df6",
   "metadata": {},
   "source": [
    "### interactive visualization across layers"
   ]
  },
  {
   "cell_type": "code",
   "execution_count": 78,
   "id": "8ac62be3",
   "metadata": {},
   "outputs": [
    {
     "data": {
      "application/vnd.jupyter.widget-view+json": {
       "model_id": "990e0cf4999c4df18512ef87662f2a3d",
       "version_major": 2,
       "version_minor": 0
      },
      "text/plain": [
       "interactive(children=(ToggleButtons(button_style='info', description='Select class', options=('background', 'A…"
      ]
     },
     "metadata": {},
     "output_type": "display_data"
    }
   ],
   "source": [
    "# create button values\n",
    "select_class = ToggleButtons(\n",
    "    options = ['background', 'Anterior', 'Posterior'],\n",
    "    description = 'Select class',\n",
    "    disabled = False,\n",
    "    button_style = 'info'\n",
    ")\n",
    "\n",
    "# create layer slider\n",
    "select_layer = IntSlider(min=0, max = 34, description = 'Select layer', continuous_update = False)\n",
    "\n",
    "# define a function for plotting images\n",
    "def plot_image(seg_class, layer):\n",
    "    print(f'Plotting {layer} Layer, Label: {seg_class}')\n",
    "    img_label = classes_dict[seg_class]\n",
    "    mask = np.where(label_array[:, :, layer]==img_label, 255, 0)\n",
    "    plt.figure(figsize=(6,9))\n",
    "    plt.imshow(mask, cmap='gray')\n",
    "    plt.axis('off')\n",
    "    \n",
    "# use the interactive() tool to create a visualization\n",
    "interactive(plot_image, seg_class = select_class, layer = select_layer)\n"
   ]
  },
  {
   "cell_type": "code",
   "execution_count": null,
   "id": "16947c7f",
   "metadata": {},
   "outputs": [],
   "source": []
  },
  {
   "cell_type": "markdown",
   "id": "3bdec216",
   "metadata": {},
   "source": [
    "## import data"
   ]
  },
  {
   "cell_type": "code",
   "execution_count": 257,
   "id": "7d3749d7",
   "metadata": {},
   "outputs": [],
   "source": [
    "import glob\n",
    "import torchio as tio\n",
    "from torchvision import transforms \n",
    "from torch.utils.data import DataLoader"
   ]
  },
  {
   "cell_type": "code",
   "execution_count": 258,
   "id": "c1120df0",
   "metadata": {},
   "outputs": [],
   "source": [
    "images = glob.glob('/Users/zhujiayuan/Downloads/Task04_Hippocampus/imagesTr' + \"/*.nii.gz\")\n",
    "labels = glob.glob('/Users/zhujiayuan/Downloads/Task04_Hippocampus/labelsTr' + \"/*.nii.gz\")"
   ]
  },
  {
   "cell_type": "code",
   "execution_count": 275,
   "id": "1e055a72",
   "metadata": {},
   "outputs": [
    {
     "data": {
      "text/plain": [
       "(36, 57, 37)"
      ]
     },
     "execution_count": 275,
     "metadata": {},
     "output_type": "execute_result"
    }
   ],
   "source": [
    "nib.load(images[0]).get_fdata().shape"
   ]
  },
  {
   "cell_type": "code",
   "execution_count": null,
   "id": "bed25b2a",
   "metadata": {},
   "outputs": [],
   "source": []
  },
  {
   "cell_type": "markdown",
   "id": "753d78af",
   "metadata": {},
   "source": [
    "### find size distribution"
   ]
  },
  {
   "cell_type": "code",
   "execution_count": 291,
   "id": "7c5182c8",
   "metadata": {},
   "outputs": [],
   "source": [
    "width_list_images = []\n",
    "height_list_images = []\n",
    "depth_list_images = []\n",
    "width_list_labels = []\n",
    "height_list_labels = []\n",
    "depth_list_labels = []\n",
    "\n",
    "flattern_data = np.array([])\n",
    "\n",
    "for i in range(len(images)):\n",
    "    image = nib.load(images[i]).get_fdata().shape\n",
    "    label = nib.load(labels[i]).get_fdata().shape\n",
    "    \n",
    "    width_list_images.append(image[0])\n",
    "    height_list_images.append(image[1])\n",
    "    depth_list_images.append(image[2])\n",
    "    \n",
    "    width_list_labels.append(label[0])\n",
    "    height_list_labels.append(label[1])\n",
    "    depth_list_labels.append(label[2])\n",
    "    \n",
    "    flattern_data = np.append(flattern_data, nib.load(images[i]).get_fdata().flatten())"
   ]
  },
  {
   "cell_type": "code",
   "execution_count": 292,
   "id": "b6ed628e",
   "metadata": {},
   "outputs": [
    {
     "data": {
      "text/plain": [
       "(43, 59, 47)"
      ]
     },
     "execution_count": 292,
     "metadata": {},
     "output_type": "execute_result"
    }
   ],
   "source": [
    "resize_shape = (max(width_list_images), max(height_list_images), max(depth_list_images))\n",
    "resize_shape"
   ]
  },
  {
   "cell_type": "code",
   "execution_count": 293,
   "id": "03730716",
   "metadata": {},
   "outputs": [
    {
     "data": {
      "text/plain": [
       "(array([ 0.,  5., 10., 15., 20., 25., 30., 35.]),\n",
       " [Text(0, 0.0, '0'),\n",
       "  Text(0, 5.0, '5'),\n",
       "  Text(0, 10.0, '10'),\n",
       "  Text(0, 15.0, '15'),\n",
       "  Text(0, 20.0, '20'),\n",
       "  Text(0, 25.0, '25'),\n",
       "  Text(0, 30.0, '30'),\n",
       "  Text(0, 35.0, '35')])"
      ]
     },
     "execution_count": 293,
     "metadata": {},
     "output_type": "execute_result"
    },
    {
     "data": {
      "image/png": "[encoded data removed]",
      "text/plain": [
       "<Figure size 1296x432 with 3 Axes>"
      ]
     },
     "metadata": {},
     "output_type": "display_data"
    }
   ],
   "source": [
    "fig, (ax1, ax2, ax3) = plt.subplots(1,3,figsize=(18,6))\n",
    "\n",
    "plt.subplot(1,3,1)\n",
    "# training set\n",
    "fig = sns.histplot(width_list_images, color = 'b', kde = True, bins = 20) \n",
    "\n",
    "plt.title('width distribution', fontsize = 13)\n",
    "plt.xlabel('width', fontsize = 12)\n",
    "plt.ylabel('count', fontsize = 12)\n",
    "plt.xticks(fontsize = 10)\n",
    "plt.yticks(fontsize = 10)\n",
    "\n",
    "plt.subplot(1,3,2)\n",
    "fig = sns.histplot(height_list_images, color = 'r', kde = True, bins = 20) \n",
    "\n",
    "plt.title('height distribution', fontsize = 13)\n",
    "plt.xlabel('height', fontsize = 12)\n",
    "plt.ylabel('count', fontsize = 12)\n",
    "plt.xticks(fontsize = 10)\n",
    "plt.yticks(fontsize = 10)\n",
    "\n",
    "plt.subplot(1,3,3)\n",
    "fig = sns.histplot(depth_list_images, color = 'g', kde = True, bins = 20) \n",
    "\n",
    "plt.title('depth distribution', fontsize = 13)\n",
    "plt.xlabel('depth', fontsize = 12)\n",
    "plt.ylabel('count', fontsize = 12)\n",
    "plt.xticks(fontsize = 10)\n",
    "plt.yticks(fontsize = 10)"
   ]
  },
  {
   "cell_type": "code",
   "execution_count": null,
   "id": "04be65b7",
   "metadata": {},
   "outputs": [],
   "source": []
  },
  {
   "cell_type": "markdown",
   "id": "75a944b3",
   "metadata": {},
   "source": [
    "### find data distribution"
   ]
  },
  {
   "cell_type": "code",
   "execution_count": 295,
   "id": "5229994c",
   "metadata": {},
   "outputs": [
    {
     "data": {
      "text/plain": [
       "(array([0.0e+00, 2.0e+07, 4.0e+07, 6.0e+07, 8.0e+07, 1.0e+08, 1.2e+08,\n",
       "        1.4e+08, 1.6e+08, 1.8e+08]),\n",
       " [Text(0, 0.0, '0.0'),\n",
       "  Text(0, 20000000.0, '0.2'),\n",
       "  Text(0, 40000000.0, '0.4'),\n",
       "  Text(0, 60000000.0, '0.6'),\n",
       "  Text(0, 80000000.0, '0.8'),\n",
       "  Text(0, 100000000.0, '1.0'),\n",
       "  Text(0, 120000000.0, '1.2'),\n",
       "  Text(0, 140000000.0, '1.4'),\n",
       "  Text(0, 160000000.0, '1.6'),\n",
       "  Text(0, 180000000.0, '1.8')])"
      ]
     },
     "execution_count": 295,
     "metadata": {},
     "output_type": "execute_result"
    },
    {
     "data": {
      "image/png": "[encoded data removed]",
      "text/plain": [
       "<Figure size 1296x432 with 1 Axes>"
      ]
     },
     "metadata": {},
     "output_type": "display_data"
    }
   ],
   "source": [
    "plt.figure(figsize=(18,6))\n",
    "\n",
    "fig = sns.histplot(flattern_data, color = 'b', kde = True, bins = 20) \n",
    "\n",
    "plt.title('', fontsize = 13)\n",
    "plt.xlabel('', fontsize = 12)\n",
    "plt.ylabel('Count', fontsize = 12)\n",
    "plt.xticks(fontsize = 10)\n",
    "plt.yticks(fontsize = 10)"
   ]
  },
  {
   "cell_type": "code",
   "execution_count": 296,
   "id": "b3e2bf07",
   "metadata": {},
   "outputs": [
    {
     "data": {
      "text/plain": [
       "0.0"
      ]
     },
     "execution_count": 296,
     "metadata": {},
     "output_type": "execute_result"
    }
   ],
   "source": [
    "min(flattern_data)"
   ]
  },
  {
   "cell_type": "code",
   "execution_count": 297,
   "id": "498b84d4",
   "metadata": {},
   "outputs": [
    {
     "data": {
      "text/plain": [
       "1704295.25"
      ]
     },
     "execution_count": 297,
     "metadata": {},
     "output_type": "execute_result"
    }
   ],
   "source": [
    "max(flattern_data)"
   ]
  },
  {
   "cell_type": "code",
   "execution_count": 303,
   "id": "12f477d6",
   "metadata": {},
   "outputs": [
    {
     "data": {
      "text/plain": [
       "(array([   0., 1000., 2000., 3000., 4000., 5000., 6000., 7000.]),\n",
       " [Text(0, 0.0, '0'),\n",
       "  Text(0, 1000.0, '1000'),\n",
       "  Text(0, 2000.0, '2000'),\n",
       "  Text(0, 3000.0, '3000'),\n",
       "  Text(0, 4000.0, '4000'),\n",
       "  Text(0, 5000.0, '5000'),\n",
       "  Text(0, 6000.0, '6000'),\n",
       "  Text(0, 7000.0, '7000')])"
      ]
     },
     "execution_count": 303,
     "metadata": {},
     "output_type": "execute_result"
    },
    {
     "data": {
      "image/png": "[encoded data removed]",
      "text/plain": [
       "<Figure size 1296x432 with 1 Axes>"
      ]
     },
     "metadata": {},
     "output_type": "display_data"
    }
   ],
   "source": [
    "a = nib.load(images[2]).get_fdata().flatten()\n",
    "\n",
    "plt.figure(figsize=(18,6))\n",
    "\n",
    "fig = sns.histplot(a, color = 'b', kde = True, bins = 20) \n",
    "\n",
    "plt.title('', fontsize = 13)\n",
    "plt.xlabel('', fontsize = 12)\n",
    "plt.ylabel('Count', fontsize = 12)\n",
    "plt.xticks(fontsize = 10)\n",
    "plt.yticks(fontsize = 10)"
   ]
  },
  {
   "cell_type": "code",
   "execution_count": null,
   "id": "0cc92a29",
   "metadata": {},
   "outputs": [],
   "source": []
  },
  {
   "cell_type": "code",
   "execution_count": null,
   "id": "162d6d90",
   "metadata": {},
   "outputs": [],
   "source": []
  },
  {
   "cell_type": "code",
   "execution_count": 300,
   "id": "6140df2a",
   "metadata": {},
   "outputs": [],
   "source": [
    "outlier = []\n",
    "for i in range(len(images)):\n",
    "    image = nib.load(images[i]).get_fdata().flatten()\n",
    "    if max(image) > 250000:\n",
    "        outlier.append(i)\n",
    "    "
   ]
  },
  {
   "cell_type": "code",
   "execution_count": 301,
   "id": "42a2baf2",
   "metadata": {},
   "outputs": [
    {
     "data": {
      "text/plain": [
       "33"
      ]
     },
     "execution_count": 301,
     "metadata": {},
     "output_type": "execute_result"
    }
   ],
   "source": [
    "len(outlier)"
   ]
  },
  {
   "cell_type": "code",
   "execution_count": null,
   "id": "8b0de0fc",
   "metadata": {},
   "outputs": [],
   "source": []
  },
  {
   "cell_type": "code",
   "execution_count": null,
   "id": "9720b3e2",
   "metadata": {},
   "outputs": [],
   "source": []
  },
  {
   "cell_type": "markdown",
   "id": "26aab077",
   "metadata": {},
   "source": [
    "### resize image with tio.CropOrPad"
   ]
  },
  {
   "cell_type": "code",
   "execution_count": 366,
   "id": "4dce620d",
   "metadata": {},
   "outputs": [],
   "source": [
    "import torch\n",
    "import os"
   ]
  },
  {
   "cell_type": "code",
   "execution_count": 368,
   "id": "36eb33ef",
   "metadata": {},
   "outputs": [],
   "source": [
    "# Load data and include prepared transform (Remember to apply same transform to both image and label) \n",
    "class mySegmentationData(object):\n",
    "    def __init__(self, root, resize_shape, transforms = None):\n",
    "        self.root = root\n",
    "        self._eval = eval\n",
    "        self.resize_shape = resize_shape\n",
    "        self.transforms = transforms\n",
    "        self.build_dataset()\n",
    "                      \n",
    "    def build_dataset(self):\n",
    "        image_path = os.path.join(self.root, 'imagesTr')\n",
    "        label_path = os.path.join(self.root, 'labelsTr')\n",
    "        self._images = glob.glob(image_path + '/*.nii.gz')\n",
    "        self._labels = glob.glob(label_path + '/*.nii.gz')\n",
    "    \n",
    "    def __getitem__(self, idx):\n",
    "        image = tio.ScalarImage(self._images[idx])\n",
    "        label = tio.ScalarImage(self._labels[idx])\n",
    "        \n",
    "        # normalization\n",
    "        transform = tio.transforms.ZNormalization()\n",
    "        image = transform(image)\n",
    "        \n",
    "        # resize\n",
    "        transform = tio.CropOrPad(self.resize_shape)\n",
    "        image = transform(image).data\n",
    "        label = transform(image).data\n",
    "        \n",
    "        if self.transforms is not None:\n",
    "            image = self.transforms(image)\n",
    "            label = self.transforms(label)\n",
    "   \n",
    "        return image, label\n",
    "    \n",
    "    def __len__(self):\n",
    "        return len(self._images)"
   ]
  },
  {
   "cell_type": "code",
   "execution_count": 374,
   "id": "b5a22de8",
   "metadata": {},
   "outputs": [],
   "source": [
    "dataset = mySegmentationData('/Users/zhujiayuan/Downloads/Task04_Hippocampus/', resize_shape)"
   ]
  },
  {
   "cell_type": "code",
   "execution_count": 387,
   "id": "5634447c",
   "metadata": {},
   "outputs": [
    {
     "name": "stdout",
     "output_type": "stream",
     "text": [
      "211\n",
      "26\n",
      "26\n"
     ]
    }
   ],
   "source": [
    "# split data\n",
    "from torch.utils.data.sampler import SubsetRandomSampler\n",
    "\n",
    "num_sample = len(dataset)\n",
    "index = np.arange(0, num_sample)\n",
    "\n",
    "num_valid = int(np.floor(0.1 * num_train))\n",
    "num_test = int(np.floor(0.1 * num_train))\n",
    "\n",
    "\n",
    "valid_idx = np.random.choice(index, num_valid)\n",
    "index = index[~np.isin(index, valid_idx)]\n",
    "test_idx = np.random.choice(index, num_test)\n",
    "index = index[~np.isin(index, test_idx)]\n",
    "\n",
    "\n",
    "train_sampler = SubsetRandomSampler(index)\n",
    "valid_sampler = SubsetRandomSampler(valid_idx)\n",
    "test_sampler = SubsetRandomSampler(test_idx)\n",
    "\n",
    "\n",
    "print(len(train_sampler))\n",
    "print(len(valid_sampler))\n",
    "print(len(test_sampler))\n",
    "\n",
    "# Now create data loaders (same as before)\n",
    "# Now we need to create dataLoaders that will allow to iterate during training\n",
    "batch_size = 4 # create batch-based on how much memory you have and your data size\n",
    "\n",
    "traindataloader = DataLoader(dataset, batch_size=batch_size, sampler=train_sampler, num_workers=0)\n",
    "valdataloader = DataLoader(dataset, batch_size=batch_size, sampler=valid_sampler,\n",
    "            num_workers=0)\n",
    "testloader = DataLoader(dataset, batch_size=batch_size, sampler=test_sampler,\n",
    "            num_workers=0)\n",
    "\n"
   ]
  },
  {
   "cell_type": "code",
   "execution_count": 388,
   "id": "fbbbc4a5",
   "metadata": {},
   "outputs": [
    {
     "name": "stdout",
     "output_type": "stream",
     "text": [
      "Number of training samples: 53\n",
      "Number of validation samples: 7\n",
      "Number of testing samples: 7\n"
     ]
    }
   ],
   "source": [
    "print('Number of training samples:', len(traindataloader))\n",
    "print('Number of validation samples:', len(valdataloader))\n",
    "print('Number of testing samples:', len(testloader))"
   ]
  },
  {
   "cell_type": "code",
   "execution_count": 389,
   "id": "d994b5fe",
   "metadata": {},
   "outputs": [
    {
     "data": {
      "text/plain": [
       "torch.Size([4, 1, 43, 59, 47])"
      ]
     },
     "execution_count": 389,
     "metadata": {},
     "output_type": "execute_result"
    }
   ],
   "source": [
    "# always check the shape of your training data\n",
    "dataiter = iter(traindataloader)\n",
    "images, masks = next(dataiter)\n",
    "images.shape"
   ]
  },
  {
   "cell_type": "code",
   "execution_count": 392,
   "id": "cf772cd7",
   "metadata": {},
   "outputs": [
    {
     "data": {
      "text/plain": [
       "tensor([[0., 0., 0.,  ..., 0., 0., 0.],\n",
       "        [0., 0., 0.,  ..., 0., 0., 0.],\n",
       "        [0., 0., 0.,  ..., 0., 0., 0.],\n",
       "        ...,\n",
       "        [0., 0., 0.,  ..., 0., 0., 0.],\n",
       "        [0., 0., 0.,  ..., 0., 0., 0.],\n",
       "        [0., 0., 0.,  ..., 0., 0., 0.]])"
      ]
     },
     "execution_count": 392,
     "metadata": {},
     "output_type": "execute_result"
    }
   ],
   "source": [
    "images[0,0,10,:,:]"
   ]
  },
  {
   "cell_type": "code",
   "execution_count": 394,
   "id": "3e9e2e3d",
   "metadata": {},
   "outputs": [
    {
     "name": "stdout",
     "output_type": "stream",
     "text": [
      "Plotting layer Layer 10 of image\n"
     ]
    },
    {
     "data": {
      "text/plain": [
       "<function matplotlib.pyplot.show(close=None, block=None)>"
      ]
     },
     "execution_count": 394,
     "metadata": {},
     "output_type": "execute_result"
    },
    {
     "data": {
      "image/png": "[encoded data removed]",
      "text/plain": [
       "<Figure size 432x288 with 2 Axes>"
      ]
     },
     "metadata": {},
     "output_type": "display_data"
    }
   ],
   "source": [
    "i = 10\n",
    "print(f'Plotting layer Layer {i} of image')\n",
    "plt.imshow(images[3, 0, :, :, 15], cmap = 'gray')\n",
    "plt.axis('off')\n",
    "plt.colorbar()\n",
    "plt.show"
   ]
  },
  {
   "cell_type": "code",
   "execution_count": 254,
   "id": "9ab2f1ac",
   "metadata": {},
   "outputs": [
    {
     "name": "stdout",
     "output_type": "stream",
     "text": [
      "Plotting layer Layer 10 of image\n"
     ]
    },
    {
     "data": {
      "text/plain": [
       "<function matplotlib.pyplot.show(close=None, block=None)>"
      ]
     },
     "execution_count": 254,
     "metadata": {},
     "output_type": "execute_result"
    },
    {
     "data": {
      "image/png": "[encoded data removed]",
      "text/plain": [
       "<Figure size 432x288 with 1 Axes>"
      ]
     },
     "metadata": {},
     "output_type": "display_data"
    }
   ],
   "source": [
    "i = 10\n",
    "print(f'Plotting layer Layer {i} of image')\n",
    "plt.imshow(images[3, 0, :, :, 15], cmap = 'gray')\n",
    "plt.axis('off')\n",
    "plt.show"
   ]
  },
  {
   "cell_type": "code",
   "execution_count": null,
   "id": "06b28eb9",
   "metadata": {},
   "outputs": [],
   "source": []
  },
  {
   "cell_type": "code",
   "execution_count": null,
   "id": "5837f97e",
   "metadata": {},
   "outputs": [],
   "source": []
  },
  {
   "cell_type": "code",
   "execution_count": null,
   "id": "817fa2c9",
   "metadata": {},
   "outputs": [],
   "source": []
  },
  {
   "cell_type": "code",
   "execution_count": null,
   "id": "412ee299",
   "metadata": {},
   "outputs": [],
   "source": []
  },
  {
   "cell_type": "code",
   "execution_count": null,
   "id": "87131f67",
   "metadata": {},
   "outputs": [],
   "source": []
  }
 ],
 "metadata": {
  "kernelspec": {
   "display_name": "Python 3",
   "language": "python",
   "name": "python3"
  },
  "language_info": {
   "codemirror_mode": {
    "name": "ipython",
    "version": 3
   },
   "file_extension": ".py",
   "mimetype": "text/x-python",
   "name": "python",
   "nbconvert_exporter": "python",
   "pygments_lexer": "ipython3",
   "version": "3.8.8"
  }
 },
 "nbformat": 4,
 "nbformat_minor": 5
}
