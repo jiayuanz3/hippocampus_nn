{
 "cells": [
  {
   "cell_type": "code",
   "execution_count": 1,
   "id": "13b6b973",
   "metadata": {},
   "outputs": [],
   "source": [
    "import numpy as np\n",
    "import nibabel as nib\n",
    "import itk\n",
    "import itkwidgets\n",
    "from ipywidgets import interact, interactive, IntSlider, ToggleButtons\n",
    "import matplotlib.pyplot as plt\n",
    "%matplotlib inline\n",
    "\n",
    "import seaborn as sns\n",
    "sns.set_style('darkgrid')"
   ]
  },
  {
   "cell_type": "code",
   "execution_count": 2,
   "id": "34538755",
   "metadata": {},
   "outputs": [
    {
     "name": "stdout",
     "output_type": "stream",
     "text": [
      "Type of the image <class 'nibabel.nifti1.Nifti1Image'>.\n"
     ]
    }
   ],
   "source": [
    "image_path = '/Users/zhujiayuan/Downloads/Task04_Hippocampus/imagesTr/hippocampus_001.nii.gz'\n",
    "image_obj = nib.load(image_path)\n",
    "print(f'Type of the image {type(image_obj)}.')"
   ]
  },
  {
   "cell_type": "code",
   "execution_count": 3,
   "id": "208534e9",
   "metadata": {},
   "outputs": [
    {
     "data": {
      "text/plain": [
       "numpy.ndarray"
      ]
     },
     "execution_count": 3,
     "metadata": {},
     "output_type": "execute_result"
    }
   ],
   "source": [
    "# Turn into numpy array\n",
    "#array = np.array(image.dataobj)\n",
    "image_data = image_obj.get_fdata()\n",
    "type(image_data)"
   ]
  },
  {
   "cell_type": "code",
   "execution_count": 6,
   "id": "5869aab5",
   "metadata": {},
   "outputs": [
    {
     "data": {
      "text/plain": [
       "(35, 51, 35)"
      ]
     },
     "execution_count": 6,
     "metadata": {},
     "output_type": "execute_result"
    }
   ],
   "source": [
    "image_data.shape"
   ]
  },
  {
   "cell_type": "code",
   "execution_count": 7,
   "id": "4c47cadf",
   "metadata": {},
   "outputs": [
    {
     "name": "stdout",
     "output_type": "stream",
     "text": [
      "The image object has the following dimensions:\n",
      "height=35\n",
      "width=51\n",
      "depth=35\n"
     ]
    }
   ],
   "source": [
    "# Get the image shape and print it out\n",
    "height, width, depth= image_data.shape\n",
    "print(f'The image object has the following dimensions:\\nheight={height}\\nwidth={width}\\ndepth={depth}')"
   ]
  },
  {
   "cell_type": "markdown",
   "id": "4b780580",
   "metadata": {},
   "source": [
    "### Visualize"
   ]
  },
  {
   "cell_type": "code",
   "execution_count": 13,
   "id": "411954c6",
   "metadata": {},
   "outputs": [
    {
     "name": "stdout",
     "output_type": "stream",
     "text": [
      "Plotting layer Layer 17 of image\n"
     ]
    },
    {
     "data": {
      "text/plain": [
       "<function matplotlib.pyplot.show(close=None, block=None)>"
      ]
     },
     "execution_count": 13,
     "metadata": {},
     "output_type": "execute_result"
    },
    {
     "data": {
      "image/png": "[encoded data removed]",
      "text/plain": [
       "<Figure size 432x288 with 1 Axes>"
      ]
     },
     "metadata": {},
     "output_type": "display_data"
    }
   ],
   "source": [
    "# Select random layer number\n",
    "maxval = 35\n",
    "i = np.random.randint(0, maxval)\n",
    "\n",
    "print(f'Plotting layer Layer {i} of image')\n",
    "plt.imshow(image_data[:, :, i], cmap = 'gray')\n",
    "plt.axis('off')\n",
    "plt.show"
   ]
  },
  {
   "cell_type": "code",
   "execution_count": 14,
   "id": "0ce2d23a",
   "metadata": {},
   "outputs": [
    {
     "data": {
      "application/vnd.jupyter.widget-view+json": {
       "model_id": "c8567ad6e8d145549fcfef01f1c6d88b",
       "version_major": 2,
       "version_minor": 0
      },
      "text/plain": [
       "interactive(children=(IntSlider(value=17, description='layer', max=34), Output()), _dom_classes=('widget-inter…"
      ]
     },
     "metadata": {},
     "output_type": "display_data"
    },
    {
     "data": {
      "text/plain": [
       "<function __main__.explore_3d_image(layer)>"
      ]
     },
     "execution_count": 14,
     "metadata": {},
     "output_type": "execute_result"
    }
   ],
   "source": [
    "# define a function to visualize the data\n",
    "def explore_3d_image(layer):\n",
    "    plt.figure(figsize=(10,15))\n",
    "    plt.imshow(image_data[:, :, layer], cmap = 'gray')\n",
    "    plt.title('Explore Layers of Brain MRI', family = 'Arial', fontsize=20)\n",
    "    plt.axis('off')\n",
    "    return layer\n",
    "\n",
    "# run the ipywidgets interact() function to explore data\n",
    "interact(explore_3d_image, layer=(0,image_data.shape[2]-1))"
   ]
  },
  {
   "cell_type": "code",
   "execution_count": null,
   "id": "5e2faf68",
   "metadata": {},
   "outputs": [],
   "source": []
  },
  {
   "cell_type": "code",
   "execution_count": 18,
   "id": "134da6a5",
   "metadata": {},
   "outputs": [
    {
     "data": {
      "text/plain": [
       "nibabel.nifti1.Nifti1Image"
      ]
     },
     "execution_count": 18,
     "metadata": {},
     "output_type": "execute_result"
    }
   ],
   "source": [
    "label_path = '/Users/zhujiayuan/Downloads/Task04_Hippocampus/labelsTr/hippocampus_001.nii.gz'\n",
    "label_obj = nib.load(label_path)\n",
    "type(label_obj)"
   ]
  },
  {
   "cell_type": "code",
   "execution_count": 19,
   "id": "1ad41e1b",
   "metadata": {},
   "outputs": [
    {
     "data": {
      "text/plain": [
       "numpy.ndarray"
      ]
     },
     "execution_count": 19,
     "metadata": {},
     "output_type": "execute_result"
    }
   ],
   "source": [
    "label_array = label_obj.get_fdata()\n",
    "type(label_array)"
   ]
  },
  {
   "cell_type": "code",
   "execution_count": 20,
   "id": "9d5974cd",
   "metadata": {},
   "outputs": [
    {
     "name": "stdout",
     "output_type": "stream",
     "text": [
      "The label object has the following dimensions:\n",
      "height=35\n",
      "width=51\n",
      "depth=35\n"
     ]
    }
   ],
   "source": [
    "height,width,depth=label_array.shape\n",
    "print(f'The label object has the following dimensions:\\nheight={height}\\nwidth={width}\\ndepth={depth}')"
   ]
  },
  {
   "cell_type": "code",
   "execution_count": 26,
   "id": "da19babc",
   "metadata": {},
   "outputs": [
    {
     "name": "stdout",
     "output_type": "stream",
     "text": [
      "With the unique values: [0. 1. 2.]\n",
      "\n",
      "Corresponding to the following label categories\n",
      "0: background,\n",
      "1: Anterior,\n",
      "2: Posterior\n",
      "\n"
     ]
    }
   ],
   "source": [
    "print(f'With the unique values: {np.unique(label_array)}')\n",
    "\n",
    "print('''\\nCorresponding to the following label categories\n",
    "0: background,\n",
    "1: Anterior,\n",
    "2: Posterior\n",
    "''')"
   ]
  },
  {
   "cell_type": "markdown",
   "id": "334d08ab",
   "metadata": {},
   "source": [
    "### visualize the data for specific labels"
   ]
  },
  {
   "cell_type": "code",
   "execution_count": 73,
   "id": "7e324512",
   "metadata": {},
   "outputs": [
    {
     "data": {
      "image/png": "[encoded data removed]",
      "text/plain": [
       "<Figure size 2880x1800 with 3 Axes>"
      ]
     },
     "metadata": {},
     "output_type": "display_data"
    }
   ],
   "source": [
    "# define a single layer for plotting\n",
    "layer = 10\n",
    "\n",
    "# define a dictionary of class labels\n",
    "classes_dict = {\n",
    "    'background': 0,\n",
    "    'Anterior':1,\n",
    "    'Posterior': 2\n",
    "}\n",
    "\n",
    "# set up for plotting\n",
    "fig, ax = plt.subplots(nrows=1, ncols=3, figsize=(40,25))\n",
    "for i in range(3):\n",
    "    img_label_str = list(classes_dict.keys())[i]\n",
    "    img = label_array[:, :, layer]\n",
    "    mask = np.where(img==classes_dict[img_label_str], 255, 0)\n",
    "    ax[i].imshow(mask)\n",
    "    ax[i].set_title(f'Layer {layer} for {img_label_str}', fontsize=45, family = 'Arial')\n",
    "    ax[i].axis('off')\n",
    "plt.tight_layout()"
   ]
  },
  {
   "cell_type": "markdown",
   "id": "5b0a6de8",
   "metadata": {},
   "source": [
    "### interactive visualization across layers"
   ]
  },
  {
   "cell_type": "code",
   "execution_count": 78,
   "id": "9f4865ba",
   "metadata": {},
   "outputs": [
    {
     "data": {
      "application/vnd.jupyter.widget-view+json": {
       "model_id": "990e0cf4999c4df18512ef87662f2a3d",
       "version_major": 2,
       "version_minor": 0
      },
      "text/plain": [
       "interactive(children=(ToggleButtons(button_style='info', description='Select class', options=('background', 'A…"
      ]
     },
     "metadata": {},
     "output_type": "display_data"
    }
   ],
   "source": [
    "# create button values\n",
    "select_class = ToggleButtons(\n",
    "    options = ['background', 'Anterior', 'Posterior'],\n",
    "    description = 'Select class',\n",
    "    disabled = False,\n",
    "    button_style = 'info'\n",
    ")\n",
    "\n",
    "# create layer slider\n",
    "select_layer = IntSlider(min=0, max = 34, description = 'Select layer', continuous_update = False)\n",
    "\n",
    "# define a function for plotting images\n",
    "def plot_image(seg_class, layer):\n",
    "    print(f'Plotting {layer} Layer, Label: {seg_class}')\n",
    "    img_label = classes_dict[seg_class]\n",
    "    mask = np.where(label_array[:, :, layer]==img_label, 255, 0)\n",
    "    plt.figure(figsize=(6,9))\n",
    "    plt.imshow(mask, cmap='gray')\n",
    "    plt.axis('off')\n",
    "    \n",
    "# use the interactive() tool to create a visualization\n",
    "interactive(plot_image, seg_class = select_class, layer = select_layer)\n"
   ]
  },
  {
   "cell_type": "code",
   "execution_count": null,
   "id": "f1dd8824",
   "metadata": {},
   "outputs": [],
   "source": []
  },
  {
   "cell_type": "markdown",
   "id": "88a2d7b8",
   "metadata": {},
   "source": [
    "## import data"
   ]
  },
  {
   "cell_type": "code",
   "execution_count": 182,
   "id": "d68e0a17",
   "metadata": {},
   "outputs": [],
   "source": [
    "import glob\n",
    "import torchio as tio\n",
    "from torchvision import transforms \n",
    "from torch.utils.data import DataLoader"
   ]
  },
  {
   "cell_type": "code",
   "execution_count": 152,
   "id": "64d79e4b",
   "metadata": {},
   "outputs": [],
   "source": [
    "images = glob.glob('/Users/zhujiayuan/Downloads/Task04_Hippocampus/imagesTr' + \"/*.nii.gz\")\n",
    "labels = glob.glob('/Users/zhujiayuan/Downloads/Task04_Hippocampus/labelsTr' + \"/*.nii.gz\")"
   ]
  },
  {
   "cell_type": "markdown",
   "id": "80a6d94c",
   "metadata": {},
   "source": [
    "### find maximum size"
   ]
  },
  {
   "cell_type": "code",
   "execution_count": 181,
   "id": "34d7c7fd",
   "metadata": {},
   "outputs": [
    {
     "data": {
      "text/plain": [
       "(43, 59, 47)"
      ]
     },
     "execution_count": 181,
     "metadata": {},
     "output_type": "execute_result"
    }
   ],
   "source": [
    "max_width = 0\n",
    "max_height = 0\n",
    "max_depth = 0\n",
    "for i in range(len(images)):\n",
    "    image = nib.load(images[i]).get_fdata().shape\n",
    "    label = nib.load(labels[i]).get_fdata().shape\n",
    "    if image[0] > max_width or label[0] > max_width:\n",
    "        max_width = max(image[0], label[0])\n",
    "    if image[1] > max_height or label[1] > max_height:\n",
    "        max_height = max(image[1], label[1])\n",
    "    if image[2] > max_depth or label[2] > max_depth:\n",
    "        max_depth = max(image[2], label[2])\n",
    "        \n",
    "resize_shape = (max_width, max_height, max_depth)\n",
    "resize_shape"
   ]
  },
  {
   "cell_type": "code",
   "execution_count": 164,
   "id": "b1a9d5ae",
   "metadata": {},
   "outputs": [
    {
     "data": {
      "text/plain": [
       "(36, 57, 37)"
      ]
     },
     "execution_count": 164,
     "metadata": {},
     "output_type": "execute_result"
    }
   ],
   "source": [
    "nib.load(images[0]).get_fdata().shape"
   ]
  },
  {
   "cell_type": "code",
   "execution_count": 211,
   "id": "9cd317d1",
   "metadata": {},
   "outputs": [
    {
     "data": {
      "text/plain": [
       "(43, 59, 47)"
      ]
     },
     "execution_count": 211,
     "metadata": {},
     "output_type": "execute_result"
    }
   ],
   "source": [
    "resize_shape"
   ]
  },
  {
   "cell_type": "code",
   "execution_count": null,
   "id": "f3be24f7",
   "metadata": {},
   "outputs": [],
   "source": []
  },
  {
   "cell_type": "markdown",
   "id": "f4790ba3",
   "metadata": {},
   "source": [
    "### resize image with tio.CropOrPad"
   ]
  },
  {
   "cell_type": "code",
   "execution_count": 200,
   "id": "025cb04f",
   "metadata": {},
   "outputs": [],
   "source": [
    "# Load data and include prepared transform (Remember to apply same transform to both image and label) \n",
    "class mySegmentationData(object):\n",
    "    def __init__(self, images, labels, resize_shape, transforms = None):\n",
    "        self._eval = eval\n",
    "        self._images = images\n",
    "        self._labels = labels\n",
    "        self.resize_shape = resize_shape\n",
    "        self.transforms = transforms\n",
    "                      \n",
    "    \n",
    "    def __getitem__(self, idx):\n",
    "        image = tio.ScalarImage(self._images[idx])\n",
    "        label = tio.ScalarImage(self._labels[idx])\n",
    "        transform = tio.CropOrPad(self.resize_shape)\n",
    "        image = transform(image).data\n",
    "        label = transform(image).data\n",
    "        \n",
    "        if self.transforms is not None:\n",
    "            image = self.transforms(image)\n",
    "            label = self.transforms(label)\n",
    "   \n",
    "        return image, label\n",
    "    \n",
    "    def __len__(self):\n",
    "        return len(self._images)"
   ]
  },
  {
   "cell_type": "code",
   "execution_count": 201,
   "id": "e84335cc",
   "metadata": {},
   "outputs": [
    {
     "name": "stdout",
     "output_type": "stream",
     "text": [
      "208\n"
     ]
    }
   ],
   "source": [
    "\n",
    "trainset = mySegmentationData(images, labels, resize_shape)\n",
    "\n",
    "#  same as you did in classification (here we are doing )\n",
    "from torch.utils.data.sampler import SubsetRandomSampler\n",
    "val_percentage = 0.2\n",
    "num_train = len(trainset)\n",
    "\n",
    "indices = list(range(num_train))\n",
    "split = int(np.floor(val_percentage * num_train))\n",
    "\n",
    "train_idx, valid_idx = indices[split:], indices[:split]\n",
    "train_sampler = SubsetRandomSampler(train_idx)\n",
    "valid_sampler = SubsetRandomSampler(valid_idx)\n",
    "\n",
    "\n",
    "print(len(train_sampler))\n",
    "\n",
    "# Now create data loaders (same as before)\n",
    "# Now we need to create dataLoaders that will allow to iterate during training\n",
    "batch_size = 4 # create batch-based on how much memory you have and your data size\n",
    "\n",
    "traindataloader = DataLoader(trainset, batch_size=batch_size, sampler=train_sampler, num_workers=0)\n",
    "valdataloader = DataLoader(trainset, batch_size=batch_size, sampler=valid_sampler,\n",
    "            num_workers=0)\n",
    "\n"
   ]
  },
  {
   "cell_type": "code",
   "execution_count": 202,
   "id": "23bf4b91",
   "metadata": {},
   "outputs": [
    {
     "name": "stdout",
     "output_type": "stream",
     "text": [
      "Number of training samples: 52\n",
      "Number of validation samples: 13\n"
     ]
    }
   ],
   "source": [
    "print('Number of training samples:', len(traindataloader))\n",
    "print('Number of validation samples:', len(valdataloader))"
   ]
  },
  {
   "cell_type": "code",
   "execution_count": 235,
   "id": "b12184eb",
   "metadata": {},
   "outputs": [
    {
     "data": {
      "text/plain": [
       "torch.Size([4, 1, 43, 59, 47])"
      ]
     },
     "execution_count": 235,
     "metadata": {},
     "output_type": "execute_result"
    }
   ],
   "source": [
    "# always check the shape of your training data\n",
    "dataiter = iter(traindataloader)\n",
    "images, masks = next(dataiter)\n",
    "images.shape"
   ]
  },
  {
   "cell_type": "code",
   "execution_count": 254,
   "id": "e1cb7e11",
   "metadata": {},
   "outputs": [
    {
     "name": "stdout",
     "output_type": "stream",
     "text": [
      "Plotting layer Layer 10 of image\n"
     ]
    },
    {
     "data": {
      "text/plain": [
       "<function matplotlib.pyplot.show(close=None, block=None)>"
      ]
     },
     "execution_count": 254,
     "metadata": {},
     "output_type": "execute_result"
    },
    {
     "data": {
      "image/png": "[encoded data removed]",
      "text/plain": [
       "<Figure size 432x288 with 1 Axes>"
      ]
     },
     "metadata": {},
     "output_type": "display_data"
    }
   ],
   "source": [
    "i = 10\n",
    "print(f'Plotting layer Layer {i} of image')\n",
    "plt.imshow(images[3, 0, :, :, 15], cmap = 'gray')\n",
    "plt.axis('off')\n",
    "plt.show"
   ]
  },
  {
   "cell_type": "code",
   "execution_count": null,
   "id": "134f635f",
   "metadata": {},
   "outputs": [],
   "source": []
  },
  {
   "cell_type": "code",
   "execution_count": 241,
   "id": "e33646b9",
   "metadata": {},
   "outputs": [],
   "source": [
    "j = masks[:,:,:,:,10]"
   ]
  },
  {
   "cell_type": "code",
   "execution_count": 242,
   "id": "171d29e3",
   "metadata": {},
   "outputs": [],
   "source": [
    "import torchvision \n",
    "def test_imshow(img):\n",
    "    # TODO: unnormalize if needed\n",
    "    npimg = img.numpy()\n",
    "    plt.imshow(np.transpose(npimg, (1, 2, 0)))\n",
    "    plt.show()"
   ]
  },
  {
   "cell_type": "code",
   "execution_count": 243,
   "id": "a06eb3c7",
   "metadata": {},
   "outputs": [
    {
     "name": "stderr",
     "output_type": "stream",
     "text": [
      "Clipping input data to the valid range for imshow with RGB data ([0..1] for floats or [0..255] for integers).\n"
     ]
    },
    {
     "data": {
      "image/png": "[encoded data removed]",
      "text/plain": [
       "<Figure size 432x288 with 1 Axes>"
      ]
     },
     "metadata": {},
     "output_type": "display_data"
    }
   ],
   "source": [
    "test_imshow(torchvision.utils.make_grid(j))"
   ]
  },
  {
   "cell_type": "code",
   "execution_count": null,
   "id": "36aca2ad",
   "metadata": {},
   "outputs": [],
   "source": []
  },
  {
   "cell_type": "code",
   "execution_count": null,
   "id": "8aaeddd0",
   "metadata": {},
   "outputs": [],
   "source": []
  },
  {
   "cell_type": "code",
   "execution_count": null,
   "id": "bc25429a",
   "metadata": {},
   "outputs": [],
   "source": []
  },
  {
   "cell_type": "code",
   "execution_count": null,
   "id": "5bea458e",
   "metadata": {},
   "outputs": [],
   "source": []
  },
  {
   "cell_type": "code",
   "execution_count": 111,
   "id": "18b55216",
   "metadata": {},
   "outputs": [],
   "source": [
    "b = tio.ScalarImage(data[0])"
   ]
  },
  {
   "cell_type": "code",
   "execution_count": 112,
   "id": "bc0f9dc8",
   "metadata": {},
   "outputs": [
    {
     "data": {
      "text/plain": [
       "ScalarImage(shape: (1, 36, 57, 37); spacing: (1.00, 1.00, 1.00); orientation: RAS+; path: \"/Users/zhujiayuan/Downloads/Task04_Hippocampus/imagesTr/hippocampus_367.nii.gz\")"
      ]
     },
     "execution_count": 112,
     "metadata": {},
     "output_type": "execute_result"
    }
   ],
   "source": [
    "b"
   ]
  },
  {
   "cell_type": "code",
   "execution_count": 113,
   "id": "69a3cd87",
   "metadata": {},
   "outputs": [
    {
     "data": {
      "text/plain": [
       "ScalarImage(shape: (1, 36, 36, 36); spacing: (1.00, 1.00, 1.00); orientation: RAS+; dtype: torch.FloatTensor; memory: 182.2 KiB)"
      ]
     },
     "execution_count": 113,
     "metadata": {},
     "output_type": "execute_result"
    }
   ],
   "source": [
    "transform = tio.CropOrPad((36,36,36))\n",
    "output = transform(b)\n",
    "output"
   ]
  },
  {
   "cell_type": "code",
   "execution_count": 125,
   "id": "cd3aac4c",
   "metadata": {},
   "outputs": [
    {
     "data": {
      "text/plain": [
       "torch.Size([36, 36, 36])"
      ]
     },
     "execution_count": 125,
     "metadata": {},
     "output_type": "execute_result"
    }
   ],
   "source": [
    "output.data[0].shape"
   ]
  },
  {
   "cell_type": "code",
   "execution_count": 180,
   "id": "e0160933",
   "metadata": {},
   "outputs": [
    {
     "data": {
      "text/plain": [
       "tensor([[[ 464.7552,  652.2880,  741.9776,  ...,  627.8272,  513.6768,\n",
       "           399.5264],\n",
       "         [ 513.6768,  546.2912,  635.9808,  ...,  546.2912,  456.6016,\n",
       "           293.5296],\n",
       "         [ 505.5232,  472.9088,  538.1376,  ...,  513.6768,  432.1408,\n",
       "           350.6048],\n",
       "         ...,\n",
       "         [ 407.6800,  350.6048,  432.1408,  ...,  366.9120,  366.9120,\n",
       "           375.0656],\n",
       "         [ 317.9904,  391.3728,  391.3728,  ...,  244.6080,  252.7616,\n",
       "           375.0656],\n",
       "         [ 326.1440,  423.9872,  366.9120,  ...,   89.6896,  252.7616,\n",
       "           228.3008]],\n",
       "\n",
       "        [[ 423.9872,  489.2160,  464.7552,  ...,  554.4448,  415.8336,\n",
       "           309.8368],\n",
       "         [ 464.7552,  497.3696,  415.8336,  ...,  464.7552,  326.1440,\n",
       "           285.3760],\n",
       "         [ 472.9088,  448.4480,  423.9872,  ...,  358.7584,  415.8336,\n",
       "           472.9088],\n",
       "         ...,\n",
       "         [ 391.3728,  391.3728,  358.7584,  ...,  260.9152,  220.1472,\n",
       "           260.9152],\n",
       "         [ 366.9120,  407.6800,  350.6048,  ...,  358.7584,  383.2192,\n",
       "           342.4512],\n",
       "         [ 187.5328,  342.4512,  334.2976,  ...,  260.9152,  456.6016,\n",
       "           342.4512]],\n",
       "\n",
       "        [[ 383.2192,  423.9872,  358.7584,  ...,  448.4480,  366.9120,\n",
       "           334.2976],\n",
       "         [ 326.1440,  448.4480,  366.9120,  ...,  391.3728,  342.4512,\n",
       "           472.9088],\n",
       "         [ 269.0688,  366.9120,  342.4512,  ...,  407.6800,  497.3696,\n",
       "           546.2912],\n",
       "         ...,\n",
       "         [ 366.9120,  464.7552,  611.5200,  ...,  285.3760,  252.7616,\n",
       "           375.0656],\n",
       "         [ 350.6048,  432.1408,  415.8336,  ...,  334.2976,  317.9904,\n",
       "           391.3728],\n",
       "         [ 285.3760,  423.9872,  326.1440,  ...,  317.9904,  334.2976,\n",
       "           415.8336]],\n",
       "\n",
       "        ...,\n",
       "\n",
       "        [[ 766.4384,  538.1376,  538.1376,  ...,  195.6864,  105.9968,\n",
       "           146.7648],\n",
       "         [ 741.9776,  676.7488,  578.9056,  ...,  440.2944,  252.7616,\n",
       "            73.3824],\n",
       "         [ 905.0496,  733.8240,  701.2096,  ...,  611.5200,  595.2128,\n",
       "           513.6768],\n",
       "         ...,\n",
       "         [ 163.0720,   81.5360,  105.9968,  ...,  896.8960,  864.2816,\n",
       "           856.1280],\n",
       "         [  24.4608,   48.9216,   32.6144,  ...,  847.9744,  807.2064,\n",
       "           839.8208],\n",
       "         [ 293.5296,  195.6864,  130.4576,  ...,  856.1280,  856.1280,\n",
       "           880.5887]],\n",
       "\n",
       "        [[ 880.5887,  815.3600,  709.3632,  ...,  309.8368,  293.5296,\n",
       "           130.4576],\n",
       "         [ 774.5920,  896.8960,  790.8992,  ...,  130.4576,   48.9216,\n",
       "           114.1504],\n",
       "         [ 652.2880,  815.3600,  856.1280,  ...,  456.6016,  423.9872,\n",
       "           285.3760],\n",
       "         ...,\n",
       "         [  24.4608,  154.9184,    8.1536,  ...,  799.0528,  799.0528,\n",
       "           823.5135],\n",
       "         [  48.9216,  122.3040,   40.7680,  ...,  815.3600,  888.7424,\n",
       "           896.8960],\n",
       "         [ 138.6112,   48.9216,   32.6144,  ...,  790.8992,  872.4352,\n",
       "           896.8960]],\n",
       "\n",
       "        [[ 497.3696,  782.7456,  815.3600,  ...,  497.3696,  619.6736,\n",
       "           513.6768],\n",
       "         [ 260.9152,  497.3696,  701.2096,  ...,   97.8432,  154.9184,\n",
       "            89.6896],\n",
       "         [  65.2288,  228.3008,  423.9872,  ...,  244.6080,   97.8432,\n",
       "            40.7680],\n",
       "         ...,\n",
       "         [  16.3072,   48.9216,  211.9936,  ...,  741.9776,  815.3600,\n",
       "           790.8992],\n",
       "         [  97.8432,  105.9968,   65.2288,  ...,  896.8960,  929.5104,\n",
       "           864.2816],\n",
       "         [  24.4608,   57.0752,  114.1504,  ..., 1019.2000,  929.5104,\n",
       "           823.5135]]])"
      ]
     },
     "execution_count": 180,
     "metadata": {},
     "output_type": "execute_result"
    }
   ],
   "source": [
    "output.data[0]"
   ]
  },
  {
   "cell_type": "code",
   "execution_count": null,
   "id": "8055a526",
   "metadata": {},
   "outputs": [],
   "source": []
  },
  {
   "cell_type": "code",
   "execution_count": null,
   "id": "93a916fa",
   "metadata": {},
   "outputs": [],
   "source": []
  }
 ],
 "metadata": {
  "kernelspec": {
   "display_name": "Python 3",
   "language": "python",
   "name": "python3"
  },
  "language_info": {
   "codemirror_mode": {
    "name": "ipython",
    "version": 3
   },
   "file_extension": ".py",
   "mimetype": "text/x-python",
   "name": "python",
   "nbconvert_exporter": "python",
   "pygments_lexer": "ipython3",
   "version": "3.8.8"
  }
 },
 "nbformat": 4,
 "nbformat_minor": 5
}
